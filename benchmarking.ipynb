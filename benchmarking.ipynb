{
 "cells": [
  {
   "cell_type": "code",
   "execution_count": 96,
   "id": "233c345f",
   "metadata": {},
   "outputs": [],
   "source": [
    "import time\n",
    "import csv\n",
    "import pandas as pd\n",
    "import requests\n",
    "import json\n",
    "from typing import List\n",
    "from itertools import chain"
   ]
  },
  {
   "cell_type": "code",
   "execution_count": 3,
   "id": "5aadbfbb",
   "metadata": {},
   "outputs": [],
   "source": [
    "# %pip install polars\n",
    "import polars as pl"
   ]
  },
  {
   "cell_type": "code",
   "execution_count": 65,
   "id": "a5aa8a6a",
   "metadata": {},
   "outputs": [],
   "source": [
    "from extract_data import get_URLs,\\\n",
    "get_incident_ids, generate_canadian_avalanche_data"
   ]
  },
  {
   "cell_type": "code",
   "execution_count": 92,
   "id": "695e3a03",
   "metadata": {},
   "outputs": [],
   "source": [
    "def multi_get_incident_ids(url):\n",
    "    \"\"\"Given a list of URLs, return the incident ids found at each URL.\n",
    "\n",
    "    params: URLS: List[str]\n",
    "    returns: ids: List[str]\n",
    "    \"\"\"\n",
    "    ids = pd.read_json(url)['results'].apply(lambda row: row['id'])\n",
    "    return ids.to_list()"
   ]
  },
  {
   "cell_type": "code",
   "execution_count": 70,
   "id": "a530646c",
   "metadata": {},
   "outputs": [],
   "source": [
    "url = \"https://incidents.avalanche.ca/public/incidents/?format=json\""
   ]
  },
  {
   "cell_type": "code",
   "execution_count": 71,
   "id": "66cedf54",
   "metadata": {},
   "outputs": [],
   "source": [
    "URLS = get_URLs(url)"
   ]
  },
  {
   "cell_type": "code",
   "execution_count": 72,
   "id": "7f94be9e",
   "metadata": {},
   "outputs": [
    {
     "data": {
      "text/plain": [
       "['https://incidents.avalanche.ca/public/incidents/?format=json',\n",
       " 'https://incidents.avalanche.ca/public/incidents/?format=json&page=2',\n",
       " 'https://incidents.avalanche.ca/public/incidents/?format=json&page=3',\n",
       " 'https://incidents.avalanche.ca/public/incidents/?format=json&page=4',\n",
       " 'https://incidents.avalanche.ca/public/incidents/?format=json&page=5',\n",
       " 'https://incidents.avalanche.ca/public/incidents/?format=json&page=6',\n",
       " 'https://incidents.avalanche.ca/public/incidents/?format=json&page=7',\n",
       " 'https://incidents.avalanche.ca/public/incidents/?format=json&page=8',\n",
       " 'https://incidents.avalanche.ca/public/incidents/?format=json&page=9',\n",
       " 'https://incidents.avalanche.ca/public/incidents/?format=json&page=10',\n",
       " 'https://incidents.avalanche.ca/public/incidents/?format=json&page=11']"
      ]
     },
     "execution_count": 72,
     "metadata": {},
     "output_type": "execute_result"
    }
   ],
   "source": [
    "URLS"
   ]
  },
  {
   "cell_type": "code",
   "execution_count": 91,
   "id": "5e6f7a6d",
   "metadata": {},
   "outputs": [],
   "source": [
    "ids = get_incident_ids(URLS)"
   ]
  },
  {
   "cell_type": "code",
   "execution_count": 74,
   "id": "43bc5942",
   "metadata": {},
   "outputs": [],
   "source": [
    "from multiprocessing import Pool\n",
    "\n"
   ]
  },
  {
   "cell_type": "code",
   "execution_count": 93,
   "id": "b9277e47",
   "metadata": {},
   "outputs": [],
   "source": [
    "with Pool() as pool:\n",
    "    results = pool.map(multi_get_incident_ids, URLS)\n",
    "    final = list(chain.from_iterable(results))\n",
    "    # Process results as needed\n"
   ]
  },
  {
   "cell_type": "code",
   "execution_count": 94,
   "id": "610eb5d5",
   "metadata": {},
   "outputs": [
    {
     "data": {
      "text/plain": [
       "504"
      ]
     },
     "execution_count": 94,
     "metadata": {},
     "output_type": "execute_result"
    }
   ],
   "source": [
    "len(final)"
   ]
  },
  {
   "cell_type": "code",
   "execution_count": 14,
   "id": "65f9678b",
   "metadata": {},
   "outputs": [
    {
     "data": {
      "text/plain": [
       "504"
      ]
     },
     "execution_count": 14,
     "metadata": {},
     "output_type": "execute_result"
    }
   ],
   "source": [
    "len(ids)"
   ]
  },
  {
   "cell_type": "code",
   "execution_count": 101,
   "id": "b7f6ec2c",
   "metadata": {},
   "outputs": [],
   "source": [
    "def generate_canadian_avalanche_data(incident_ids: List[str], file) -> str:\n",
    "    df = pd.DataFrame()\n",
    "    for id in incident_ids:\n",
    "        data = requests.get(\n",
    "            \"https://incidents.avalanche.ca/public/incidents/{}/?format=json\".format(id)\n",
    "        ).json()\n",
    "        new_df = pd.json_normalize(data)[[\"ob_date\", \"location_coords\", \"location_coords_type\"]]\n",
    "        df = pd.concat([df, new_df])\n",
    "    df.to_csv(file, index=False)\n",
    "\n",
    "    return \"Data was saved.\""
   ]
  },
  {
   "cell_type": "code",
   "execution_count": 100,
   "id": "edf3e225",
   "metadata": {},
   "outputs": [
    {
     "name": "stdout",
     "output_type": "stream",
     "text": [
      "['Data from 761a8854-758d-4a16-8d90-75d1b999ef02 was saved.', 'Data from 6dad9a7f-e732-43cf-8058-5fcac24c7041 was saved.', 'Data from a3968149-3ee5-4360-8efb-ed8bc3f331c4 was saved.', 'Data from 913e84e6-4785-409e-859e-f6456b2fb27c was saved.', 'Data from 645d13aa-4a96-4f11-a787-ded7a0051d63 was saved.', 'Data from a764c492-bb8d-401d-b7b4-ec5d7915b98e was saved.', 'Data from 1222afb5-f434-48b9-a92b-19d472c3f914 was saved.', 'Data from e8005ae1-313a-4a34-a327-16e6dadb19d6 was saved.', 'Data from bd1d03e6-ed8e-4101-93e4-3c214d3d39ca was saved.', 'Data from e120382f-80cf-4aaf-8a13-7f028e88879d was saved.', 'Data from 0be6f146-74fc-45fb-a748-799f0599aa23 was saved.', 'Data from 88fb4749-8b10-4640-8aa0-acdffeebfe76 was saved.', 'Data from bb4569b4-a158-4ca7-bb4c-6cfc58b6498d was saved.', 'Data from ddbe24b9-40bc-40ba-b8b5-94dd4e02e9dd was saved.', 'Data from ce706316-3687-45f0-a8db-fb63b7000ea5 was saved.', 'Data from 8bc4720d-498c-4793-81ef-c43db9f36ca4 was saved.', 'Data from 6a3a4698-d047-4082-bdea-92f4db7e63bf was saved.', 'Data from ba14a125-29f7-4432-97ad-73a53207a5e7 was saved.', 'Data from 59023c05-b679-4e9f-9c06-910021318663 was saved.', 'Data from 10774b2d-b7de-42ac-a600-9828cb4e6129 was saved.', 'Data from 4f79d4db-57b3-4843-909f-eaca3c499e7c was saved.', 'Data from a6115fd5-b330-4424-b400-4bc218f387e1 was saved.', 'Data from fcc48775-35f2-4236-9d76-80dcd933f6f9 was saved.', 'Data from 17bcbc38-ccf8-4f32-ab5e-7b32315690af was saved.', 'Data from e378a68a-bdc1-4935-9e1f-eb855f5e3f0e was saved.', 'Data from c197647d-f62e-429f-8a5e-3e86b86fe352 was saved.', 'Data from dd556e1a-90f6-46a9-a31b-02508504f2d7 was saved.', 'Data from 9fcf2d9f-964b-4329-b3d2-54a7f1c6c9ee was saved.', 'Data from 3c2ecc57-f40c-4ae5-afeb-a2abd624d8a8 was saved.', 'Data from c5b412c4-9857-44df-8d90-8385fac3948c was saved.', 'Data from 223dceb9-1d88-43ab-a893-f5728024802d was saved.', 'Data from 1953493c-cf2b-4d67-b934-72c69f987884 was saved.', 'Data from 5b97e577-add7-41a8-9fdd-6b1ff9a5d3a2 was saved.', 'Data from 49c180c3-aa8e-4f9e-805d-603e510a4485 was saved.', 'Data from bc4a88cc-7b79-4382-912d-f2ba5cd1f7ec was saved.', 'Data from 37d909e4-c6de-43f1-8416-57a34cd48255 was saved.', 'Data from 53263a93-e674-4eda-999d-01e05fcf64ef was saved.', 'Data from b3e31dcb-77d2-42b3-8115-e88a16b2f946 was saved.', 'Data from 2a3afb33-ff26-48ab-b7ca-cfd840d203fa was saved.', 'Data from 87affdea-021e-4b13-b7fb-f52fa3b1437a was saved.', 'Data from 9413994e-a20d-4f52-8e84-dfc4ee6217b5 was saved.', 'Data from 3891fd51-8736-4373-9829-9159b950992b was saved.', 'Data from 5930994f-0066-4e58-822e-15caf064c12e was saved.', 'Data from 533be18d-8019-42b1-9811-8509ca14106f was saved.', 'Data from f1f2bfec-bd7b-4063-b46e-46aa213a8678 was saved.', 'Data from 62ada927-3b2f-44a7-b765-4372c3886145 was saved.', 'Data from 22b949ed-a192-4b28-82d9-760369d617e6 was saved.', 'Data from 455adfa2-0ef6-4c41-b01a-2af0226aa494 was saved.', 'Data from e9a90226-1774-47f0-8ac7-acafe5eabcde was saved.', 'Data from 6aa34cf6-fd76-4c4e-8db0-b89864d7b245 was saved.']\n"
     ]
    }
   ],
   "source": [
    "import requests\n",
    "import pandas as pd\n",
    "from multiprocessing import Pool\n",
    "import csv\n",
    "\n",
    "def multi_generate_canadian_avalanche_data(args):\n",
    "    incident_id, file = args\n",
    "    data = requests.get(\"https://incidents.avalanche.ca/public/incidents/{}/?format=json\".format(incident_id)).json()\n",
    "    df = pd.json_normalize(data)[[\"ob_date\", \"location_coords\", \"location_coords_type\"]]\n",
    "    \n",
    "    # Open the CSV file for writing in append mode\n",
    "    with open(file, 'a', newline='\\n') as csv_file:\n",
    "        # Create a CSV writer\n",
    "        csv_writer = csv.writer(csv_file)\n",
    "\n",
    "        # Write the data to the CSV file\n",
    "        csv_writer.writerow(df.values.flatten())\n",
    "\n",
    "    return \n",
    "\n",
    "# Define the CSV headers\n",
    "csv_headers = [\"ob_date\", \"location_coords\", \"location_coords_type\"]\n",
    "\n",
    "# Open the CSV file for writing\n",
    "with open('./multiout.csv', 'w', newline='\\n') as csv_file:\n",
    "    # Create a CSV writer\n",
    "    csv_writer = csv.writer(csv_file)\n",
    "\n",
    "    # Write the headers to the CSV file\n",
    "    csv_writer.writerow(csv_headers)\n",
    "\n",
    "    # Create a list of tuples, each containing arguments for a single function call\n",
    "    args_list = [(incident_id, csv_file.name) for incident_id in ids[:50]]\n",
    "\n",
    "    with Pool() as p:\n",
    "        results = p.map(multi_generate_canadian_avalanche_data, args_list)\n",
    "\n",
    "    # Process the results if needed\n",
    "    print(results)\n",
    "q"
   ]
  },
  {
   "cell_type": "code",
   "execution_count": 104,
   "id": "1ab77b6d",
   "metadata": {},
   "outputs": [
    {
     "name": "stdout",
     "output_type": "stream",
     "text": [
      "['Data from 761a8854-758d-4a16-8d90-75d1b999ef02 was saved.', 'Data from 6dad9a7f-e732-43cf-8058-5fcac24c7041 was saved.', 'Data from a3968149-3ee5-4360-8efb-ed8bc3f331c4 was saved.', 'Data from 913e84e6-4785-409e-859e-f6456b2fb27c was saved.', 'Data from 645d13aa-4a96-4f11-a787-ded7a0051d63 was saved.', 'Data from a764c492-bb8d-401d-b7b4-ec5d7915b98e was saved.', 'Data from 1222afb5-f434-48b9-a92b-19d472c3f914 was saved.', 'Data from e8005ae1-313a-4a34-a327-16e6dadb19d6 was saved.', 'Data from bd1d03e6-ed8e-4101-93e4-3c214d3d39ca was saved.', 'Data from e120382f-80cf-4aaf-8a13-7f028e88879d was saved.', 'Data from 0be6f146-74fc-45fb-a748-799f0599aa23 was saved.', 'Data from 88fb4749-8b10-4640-8aa0-acdffeebfe76 was saved.', 'Data from bb4569b4-a158-4ca7-bb4c-6cfc58b6498d was saved.', 'Data from ddbe24b9-40bc-40ba-b8b5-94dd4e02e9dd was saved.', 'Data from ce706316-3687-45f0-a8db-fb63b7000ea5 was saved.', 'Data from 8bc4720d-498c-4793-81ef-c43db9f36ca4 was saved.', 'Data from 6a3a4698-d047-4082-bdea-92f4db7e63bf was saved.', 'Data from ba14a125-29f7-4432-97ad-73a53207a5e7 was saved.', 'Data from 59023c05-b679-4e9f-9c06-910021318663 was saved.', 'Data from 10774b2d-b7de-42ac-a600-9828cb4e6129 was saved.', 'Data from 4f79d4db-57b3-4843-909f-eaca3c499e7c was saved.', 'Data from a6115fd5-b330-4424-b400-4bc218f387e1 was saved.', 'Data from fcc48775-35f2-4236-9d76-80dcd933f6f9 was saved.', 'Data from 17bcbc38-ccf8-4f32-ab5e-7b32315690af was saved.', 'Data from e378a68a-bdc1-4935-9e1f-eb855f5e3f0e was saved.', 'Data from c197647d-f62e-429f-8a5e-3e86b86fe352 was saved.', 'Data from dd556e1a-90f6-46a9-a31b-02508504f2d7 was saved.', 'Data from 9fcf2d9f-964b-4329-b3d2-54a7f1c6c9ee was saved.', 'Data from 3c2ecc57-f40c-4ae5-afeb-a2abd624d8a8 was saved.', 'Data from c5b412c4-9857-44df-8d90-8385fac3948c was saved.', 'Data from 223dceb9-1d88-43ab-a893-f5728024802d was saved.', 'Data from 1953493c-cf2b-4d67-b934-72c69f987884 was saved.', 'Data from 5b97e577-add7-41a8-9fdd-6b1ff9a5d3a2 was saved.', 'Data from 49c180c3-aa8e-4f9e-805d-603e510a4485 was saved.', 'Data from bc4a88cc-7b79-4382-912d-f2ba5cd1f7ec was saved.', 'Data from 37d909e4-c6de-43f1-8416-57a34cd48255 was saved.', 'Data from 53263a93-e674-4eda-999d-01e05fcf64ef was saved.', 'Data from b3e31dcb-77d2-42b3-8115-e88a16b2f946 was saved.', 'Data from 2a3afb33-ff26-48ab-b7ca-cfd840d203fa was saved.', 'Data from 87affdea-021e-4b13-b7fb-f52fa3b1437a was saved.', 'Data from 9413994e-a20d-4f52-8e84-dfc4ee6217b5 was saved.', 'Data from 3891fd51-8736-4373-9829-9159b950992b was saved.', 'Data from 5930994f-0066-4e58-822e-15caf064c12e was saved.', 'Data from 533be18d-8019-42b1-9811-8509ca14106f was saved.', 'Data from f1f2bfec-bd7b-4063-b46e-46aa213a8678 was saved.', 'Data from 62ada927-3b2f-44a7-b765-4372c3886145 was saved.', 'Data from 22b949ed-a192-4b28-82d9-760369d617e6 was saved.', 'Data from 455adfa2-0ef6-4c41-b01a-2af0226aa494 was saved.', 'Data from e9a90226-1774-47f0-8ac7-acafe5eabcde was saved.', 'Data from 6aa34cf6-fd76-4c4e-8db0-b89864d7b245 was saved.', 'Data from 181f837b-88a2-45d5-8806-e5225ccf8afe was saved.', 'Data from 6f5503dc-db49-4ed9-830e-855ae37fd55f was saved.', 'Data from 3880da2c-4404-4be3-b30d-bc130c9220d9 was saved.', 'Data from 25ae1cb7-d05d-4f37-80a5-d25d2ac4ec28 was saved.', 'Data from 02e20779-5ec5-402c-b463-79f5c37e96c3 was saved.', 'Data from 92402335-894f-4998-b1d0-3ab5e7049011 was saved.', 'Data from 0169d024-fa0b-4076-8064-2e557c9fc305 was saved.', 'Data from 8295e9da-8b59-47ff-a473-cae0fd8d3883 was saved.', 'Data from c080e409-0151-404e-bfd6-b1db7c63a660 was saved.', 'Data from 5afb006a-1f7a-40da-82a5-868aa6baeb59 was saved.', 'Data from a5ea1871-d2fb-44e1-8300-d022e6a9c26d was saved.', 'Data from 60347304-201c-497d-a5ec-05c73129bf63 was saved.', 'Data from 70c2366b-fb59-462a-9a7b-e26661bd62f6 was saved.', 'Data from f9bae623-2e13-47fd-a445-6153d2e0e1fb was saved.', 'Data from dc4c173f-cdf2-4d02-ba56-968c54606108 was saved.', 'Data from eb71512b-e8a2-48fd-9601-863c05d07481 was saved.', 'Data from db6c25fe-0e2d-4c08-a916-f4d1d49114ed was saved.', 'Data from f85c5b0f-c383-44d9-9790-eb36262f6153 was saved.', 'Data from 12b2631a-5b7f-4f0e-a2d8-c6f89bfb494d was saved.', 'Data from d6befbcb-2b23-4734-9883-f74c30b47c88 was saved.', 'Data from f1a9275d-28d4-4646-a2d4-a75fe6c10796 was saved.', 'Data from e16c495a-69fa-4144-9aff-13107b057911 was saved.', 'Data from d6a8c535-e00d-4f3f-85ab-528bccbffaad was saved.', 'Data from af6de875-2fdd-4c00-9a50-eb30cef2bf17 was saved.', 'Data from 3cf409f6-232a-4ebb-adc1-e203e86d6164 was saved.', 'Data from 744c4ccd-0c2a-4660-8464-d25ee3f9281a was saved.', 'Data from e6d6573c-8be0-43b9-96ce-11e10c05935e was saved.', 'Data from 92af8800-5617-4b6a-adfe-6a4ab705f171 was saved.', 'Data from 3749ef43-f7be-4552-901e-95925b143960 was saved.', 'Data from 672c840f-6aca-4df1-9384-f6d43bdf172a was saved.', 'Data from fb457cdc-0728-4088-bcbf-05e6ee2d8ad2 was saved.', 'Data from 61bb823f-3370-4d9c-bdbc-fcb31152ade6 was saved.', 'Data from 58265b14-96b0-492b-b37b-08d5b8e7538f was saved.', 'Data from 949dad72-f182-496b-a523-f03ccb3412e9 was saved.', 'Data from d5f8d8e1-e8d8-41c2-819b-afb6678dc7c4 was saved.', 'Data from a215cf0b-9109-4194-ba50-a21476a0681c was saved.', 'Data from 84b75a59-a6da-4bb9-9fdb-658f92d5644c was saved.', 'Data from ace9d4dd-c3a7-4964-ba90-6464c36c9b4f was saved.', 'Data from ec1cc0d9-dad1-4761-86ae-5762f576be86 was saved.', 'Data from 64305415-6603-443d-8a84-5c57a1f3af82 was saved.', 'Data from d4aa013d-7277-4f43-8f07-90ce6dd01d21 was saved.', 'Data from 52d7b4d3-0d20-4574-841d-0b28180ef051 was saved.', 'Data from 1f1fc12b-f0b1-413f-85fa-4e7ac30d7f2b was saved.', 'Data from 55f2b0ec-73db-4f61-9a33-13ad3f5c6efb was saved.', 'Data from 31dc21c4-a08e-4781-9b1a-eb66f0b827ca was saved.', 'Data from 6868a39c-bdc2-4966-a31b-bd0edd15d425 was saved.', 'Data from af91c1ba-24ec-47a8-ba03-884ecb934d32 was saved.', 'Data from ef00e231-9218-450c-a58c-5b360c1642b4 was saved.', 'Data from 2b262e7d-c1bf-4655-932c-e16dccdf78f5 was saved.', 'Data from 3cc843c7-e78f-4d58-98bd-69f4f0aee696 was saved.', 'Data from 6c18520b-883e-41d1-afea-4ae00722a883 was saved.', 'Data from 79873cf4-f1eb-4f8e-ae12-2a139bf11c82 was saved.', 'Data from 91aca4d1-3b7a-4d4a-9606-8d78c144e58c was saved.', 'Data from fe0f0bfe-9713-4a51-b971-4fbdb5bf70a1 was saved.', 'Data from d0c3280d-3157-4402-9db5-10929a36aa82 was saved.', 'Data from 2383db0c-cb86-40b3-ae99-14ad7b7e4124 was saved.', 'Data from d6476d6a-0a4b-4183-8c75-5b34c2029036 was saved.', 'Data from ae6a01f1-1b35-4b5a-8172-8a36e5862d99 was saved.', 'Data from 0855bf48-2989-413e-899a-939b36cf6759 was saved.', 'Data from 9da28fc8-a77f-43d8-b6d1-581d651250da was saved.', 'Data from 9c2fa935-6354-48c2-b7f6-04708bbb8452 was saved.', 'Data from 55c7836f-6c50-4de2-82b0-25f04e7fedef was saved.', 'Data from 2ae0b4a2-a5c5-44ef-9b49-1f167eccfbf4 was saved.', 'Data from 5077f4cd-6779-49eb-8848-08c6d6bacde8 was saved.', 'Data from 91c88430-d094-4faa-898c-573e51396488 was saved.', 'Data from e4ae72b4-1753-4e1a-85a7-f7c746a2ae60 was saved.', 'Data from 6bd1dc95-36fa-489a-877a-00f7eabe6019 was saved.', 'Data from 81ba9ecf-f8c3-4a67-8e59-88698faefcde was saved.', 'Data from 44243efd-2df1-4bdb-8e74-040dfc54f044 was saved.', 'Data from 5aab499b-ccb2-4767-9147-0dc6bb89cf8f was saved.', 'Data from 36762a83-e9be-43e7-9063-6f322e893f60 was saved.', 'Data from 6bb3a32e-85d5-4932-beda-00e2fcee4715 was saved.', 'Data from e54fb375-25b0-4aba-ab64-0f2b54e06ef5 was saved.', 'Data from 69253e22-d2c0-471a-bce4-43fb59837662 was saved.', 'Data from b51b1b52-2ed0-42f4-9d89-0f394e09aa1f was saved.', 'Data from 4c2389e7-b5b7-4f82-9b6a-6f4a8fceaa8e was saved.', 'Data from a3995998-f1e6-4830-bd8f-0c3b6fb0b065 was saved.', 'Data from f003fb65-2874-4a82-9ead-f14c73aa5722 was saved.', 'Data from 14d02af3-dca2-4390-832a-ebe21a5fe28a was saved.', 'Data from 564ef2f7-f54f-4a4e-b958-c41b3a32a786 was saved.', 'Data from 4d142fd2-013d-4803-95ce-0225901f6d76 was saved.', 'Data from 8f0bca47-ee93-4e06-99d8-0785f5ccdd98 was saved.', 'Data from fa1e647a-ad42-4adb-bd38-615e3e692b1e was saved.', 'Data from 9880d939-957a-4276-9a14-1b7d71a6fb35 was saved.', 'Data from c8810d78-261a-48e0-8484-060179bc6033 was saved.', 'Data from 2adddb8d-aba9-4c3d-894c-f467d9b6dcb4 was saved.', 'Data from 8628910e-5453-4061-84a5-52af6bcd1769 was saved.', 'Data from c8d887fc-b78e-4469-b9f2-fc0cd3072690 was saved.', 'Data from 43d7694c-9f3c-4061-9fd2-27972882a174 was saved.', 'Data from 973e437b-fe56-4284-b9bd-52aa74d48d4c was saved.', 'Data from 3083248e-1ebc-448f-acd7-ab1bbe93a6d5 was saved.', 'Data from 72a8206e-fd73-4326-ac91-4457c1635a4c was saved.', 'Data from cd8b1f18-e6d6-494e-b88d-09adb7a82b1b was saved.', 'Data from 94a94f67-3097-4ae8-a1e3-0802554ffc1a was saved.', 'Data from b40248ea-c9e6-4f43-9a98-de356b35b60d was saved.', 'Data from 08504e35-5c4b-4ba5-911c-72c95b6fcd21 was saved.', 'Data from 9488568f-caae-4135-a7e3-cd1b5a2ac6eb was saved.', 'Data from 0746592a-d78f-4d63-bdb2-2d5397a5525f was saved.', 'Data from 34616b5f-f54f-40e0-ab64-c779b1a64f8c was saved.', 'Data from 86826fa0-7d32-476f-beea-c3a9d2de7f08 was saved.', 'Data from 28c44caa-7b7f-4bcb-888b-60be8f52a105 was saved.', 'Data from b4ec2584-b55c-47b8-9445-677aceff479a was saved.', 'Data from ae082986-08be-4265-b27e-f0843eeb6e8c was saved.', 'Data from 3367fa3a-790d-4397-918f-13712b0317b0 was saved.', 'Data from 742cb998-b6b4-4286-b883-b3e47d5a1b62 was saved.', 'Data from 8f105c2a-87d1-41f4-9fff-0e32496c3ca2 was saved.', 'Data from 9439645e-5d94-4496-86e4-0ba6adea14b2 was saved.', 'Data from 7369892b-9410-4bef-81a5-8b8335205689 was saved.', 'Data from 8fe743ab-3058-4136-9c19-67c61a0fa28d was saved.', 'Data from 60a21fae-5dfe-43d7-b964-9a3c3fa0f9f5 was saved.', 'Data from 09bb2714-f9b6-4986-8ee6-fa4e7987ca77 was saved.', 'Data from 332d1dfa-207a-455c-8639-8948a6351acd was saved.', 'Data from 04db1c0c-e8f1-47b1-a0ae-eef1411ed8bb was saved.', 'Data from 7a57b085-0441-477b-bb1d-5fafe8fcf0f0 was saved.', 'Data from e9e94f2d-9773-40d0-8ec5-7efc962cf0fa was saved.', 'Data from 99860783-6a29-4503-99fc-e6111e405fcd was saved.', 'Data from b0aa15f0-c13a-4be4-963f-5beef793046c was saved.', 'Data from b0aaba23-3f0b-4f62-9982-482b3f4f2b40 was saved.', 'Data from c60cd0f6-2d3d-4346-9bd8-26afd0b14133 was saved.', 'Data from a2757f11-7b45-4613-a564-3468bd1f6d9a was saved.', 'Data from 14156399-32e2-4a32-a77e-285aa11c7d12 was saved.', 'Data from 1e75f895-0ed9-4d40-9e34-c4b0ee986ff4 was saved.', 'Data from c876cdb9-d8c5-4706-a6ff-f4e466e89769 was saved.', 'Data from f24ca8df-8d11-4fd9-9a3e-1dccdf3f9f54 was saved.', 'Data from 714ec32d-23ca-4768-ba60-af7c7aa294ce was saved.', 'Data from 8ca6d7cc-300e-474c-b49e-79da2ad9c013 was saved.', 'Data from 872dce3c-8dc9-4147-a96f-fa0e16a3421a was saved.', 'Data from 39fa0da2-09e6-4b15-a8b0-d231e6e8ee15 was saved.', 'Data from a6f596ac-0115-47be-913d-86bb74dac15d was saved.', 'Data from 69d4e5c7-c94f-4c2d-ba60-f07fbc8dd931 was saved.', 'Data from d30d75e4-3342-4a53-a5f7-f7a428b77a9e was saved.', 'Data from 17cd7e43-4dbb-47ee-a7b2-f5c1ef70b7b1 was saved.', 'Data from 4c78948f-906f-4004-b0ca-97656b379e7e was saved.', 'Data from b489aff2-498f-443f-b530-926a0a1eae2d was saved.', 'Data from 142af1b2-47d4-451e-ae37-7c63ebf75bfb was saved.', 'Data from 33a027be-ba9a-40bf-a9a7-592fdf551d4e was saved.', 'Data from 59d2dbc9-eba6-4300-bde6-ddc865f94836 was saved.', 'Data from fa5d374f-2d35-4cb1-b410-24f543ae1c59 was saved.', 'Data from ad206c35-889c-4be6-8a84-1ce2e5bd3702 was saved.', 'Data from 4201166c-bc64-4d76-ad78-44f5238ae86d was saved.', 'Data from 16e35e67-7dca-4cfa-93d3-e8823c702298 was saved.', 'Data from 9b556c41-6a1c-4fef-9aa0-ab21fc977fc4 was saved.', 'Data from 9d5699a6-6343-463b-9f0a-1594ef0164d3 was saved.', 'Data from befa5eb5-ccc1-4b6a-b20c-41fa70618053 was saved.', 'Data from 330c4af6-8533-4bb2-9bfb-081212a5c07b was saved.', 'Data from 9b092b09-741c-4351-9b54-8e8f7b24454f was saved.', 'Data from e0d29869-724c-45e9-baf3-81b6789cc0b8 was saved.', 'Data from fd29e9d6-de5a-41f5-bdc5-8f809cfa8411 was saved.', 'Data from 5faa624d-adce-496b-a8dd-4c4b73d3ca75 was saved.', 'Data from 32ffa14b-c80f-4161-af8d-3db034409197 was saved.', 'Data from 93d1724a-7271-45d2-86c5-b7e1d430b8fe was saved.', 'Data from f19b9e0c-b453-430f-a3c3-432f16386302 was saved.', 'Data from 54bc9f93-3e3d-4ef1-8266-af87e829d9d2 was saved.', 'Data from a1c1d97a-2143-44fa-8f3b-470dd7334bf3 was saved.', 'Data from 48d794d0-062d-4040-9a81-408e4befd560 was saved.', 'Data from e5bce5c4-ccc9-48e4-9f23-a177a33caa6e was saved.', 'Data from 7aedf4f3-39e1-4b39-8d99-cc8abab95818 was saved.', 'Data from f3860415-dc32-4382-86c8-623ef3894364 was saved.', 'Data from d412caca-2103-479e-a128-076b5d9dbb60 was saved.', 'Data from 1ccebea3-a98f-4239-9b09-a20f15538681 was saved.', 'Data from aa94ba0f-9c3d-463e-998b-b58e268ac878 was saved.', 'Data from 454e7f95-2174-4f35-8fa0-7d8a644455a6 was saved.', 'Data from b44a127c-552a-45be-a738-bd4d526e0b02 was saved.', 'Data from d16bbb4a-395c-4399-a1af-91453a0efd7a was saved.', 'Data from e45a472a-b991-4679-ae4e-926e9ab5b05b was saved.', 'Data from 177993f3-386a-4b58-be38-3ce7227c83cf was saved.', 'Data from 21912627-e4cf-4697-ab28-e44b1afb3e5c was saved.', 'Data from ddfd23f8-1a51-4864-9910-71f1a0f07561 was saved.', 'Data from 4e73f274-e90a-43c6-ab02-0489c4666663 was saved.', 'Data from bdc34962-92d1-4045-b7e4-835757060b06 was saved.', 'Data from 0807358e-6a51-4298-b3c6-4a621884133f was saved.', 'Data from 17d5b4b9-15b4-4315-8f97-fec0b78f6a1f was saved.', 'Data from 40aee395-45db-491c-bf28-84748d31ae9f was saved.', 'Data from 9a3260f7-32bc-4155-ac40-54b76937fb36 was saved.', 'Data from 17479db9-78d9-4727-a4c6-56961da28594 was saved.', 'Data from 15ca363b-e88c-45be-9c66-5b666b9f4f76 was saved.', 'Data from e9bd7dbc-8692-4c02-8346-0b720c2968fb was saved.', 'Data from 16b0c23e-fd92-4a52-ae21-37d2d2d3e82b was saved.', 'Data from 61134449-f3c1-40a7-83ea-ea7f23a180ab was saved.', 'Data from 382d3c3b-69ac-4a90-8b98-04e191e92e96 was saved.', 'Data from 6bf2865f-def4-4855-892f-14a5c6d64801 was saved.', 'Data from 7d8a4512-723d-4c28-8386-8e0649842cab was saved.', 'Data from 5f1d0113-1e64-4a52-a1bd-0bc6633df569 was saved.', 'Data from 3688a536-8b8f-4630-aaed-985478ef7724 was saved.', 'Data from 09931a1f-4647-43a7-bf10-7a6e8194d611 was saved.', 'Data from e809aee2-9bec-4127-a0dc-d143bbff674f was saved.', 'Data from 72eb1458-fd0f-4dd2-81ca-4664c315ae82 was saved.', 'Data from 040b1bb5-79bc-4a85-8f36-97b0acae0194 was saved.', 'Data from 43dd5388-d95e-484c-be7a-566b865a9fe0 was saved.', 'Data from 8f8d0405-aeaf-44e8-9eb1-b999dff90be8 was saved.', 'Data from ade5ec01-7e0f-4d8e-8862-41a1015ce7d6 was saved.', 'Data from 97799ab3-645b-497b-893b-31d339e0e818 was saved.', 'Data from 39944c39-a23c-421f-98c0-11e7fedc6f4a was saved.', 'Data from 87422428-68a9-410e-b821-c3a36edf7244 was saved.', 'Data from 969c0241-709b-4a68-901e-b9143c433565 was saved.', 'Data from 9108ef20-370c-477d-85aa-2872e71a7e93 was saved.', 'Data from 3774737e-1755-4b86-b9ff-55b393e49384 was saved.', 'Data from c8b2b86f-00a0-4055-ac38-061180cd556c was saved.', 'Data from 7d1f4020-09a6-4c41-ac69-0283c252d60d was saved.', 'Data from ba2011bb-48ca-46f9-8e68-48a1cb15c302 was saved.', 'Data from fbf4b30b-a4b8-48f2-b9df-17b3c5fabbea was saved.', 'Data from 3a9988f1-5350-4818-afc2-5f51dccd0ae0 was saved.', 'Data from 50ff2846-bb70-4b6e-80f7-a3c8e042a7af was saved.', 'Data from 25d07737-5f33-45e9-942d-4ef20337bb84 was saved.', 'Data from 5cd1353b-39ab-4793-9df5-44997d5b755f was saved.', 'Data from afdd38cf-5721-4a36-8167-025a953117d3 was saved.', 'Data from 7f9a3849-6b8f-40e6-b8ba-b8934d0e4ac0 was saved.', 'Data from 4fb30b73-c3e4-4d17-8129-0f5722c2e59d was saved.', 'Data from 3ac175b6-ffee-41d0-94bd-726ad7a4cfb9 was saved.', 'Data from c8de27aa-d7d3-411f-a374-bac4f124d404 was saved.', 'Data from 67296fc8-34bd-4aad-aba5-6107aaacd457 was saved.', 'Data from a87a06bd-7637-4c7f-95d0-cb16296f9dd9 was saved.', 'Data from 7da16bd8-0ed6-43e4-b805-c3eecfdb02c4 was saved.', 'Data from 41f1937f-cbcc-46f1-b784-b8cbea22d8bb was saved.', 'Data from 1bfa3922-df0b-4bb9-8db6-10469b27cde1 was saved.', 'Data from 30667d3f-b961-4e3f-9493-14a6acd05fc5 was saved.', 'Data from 2a87e25c-b48e-410b-b96a-da5ab37551c7 was saved.', 'Data from 5c5b78a0-dcc9-46d0-af90-b2e29e35e290 was saved.', 'Data from 802123f3-9faa-4b94-ad4e-03c090161429 was saved.', 'Data from fdf6cc2f-ea35-426b-96f4-eb7451ad0033 was saved.', 'Data from be93eecd-bd63-48ae-8740-fcd737968204 was saved.', 'Data from 2db699ed-aef1-4b70-b754-dc7b8a220e47 was saved.', 'Data from 87c30130-82c4-45b8-9197-f25857412770 was saved.', 'Data from 923dbb69-1ed9-439b-a217-24011ebe2f87 was saved.', 'Data from c2e5b543-e789-49b3-96b1-8a7d047f95af was saved.', 'Data from 197a8d53-22d0-4728-b398-333b8a9ed49a was saved.', 'Data from c86f3432-f807-4cb3-8b6a-cac59d122fe7 was saved.', 'Data from a9bed1b3-4f65-487a-973a-c12bb51435ce was saved.', 'Data from 5cb75ad9-a276-4de1-af69-b18c2f3c97f7 was saved.', 'Data from a0678a3c-ab71-4166-827e-4b6e8353b081 was saved.', 'Data from 29dc66fd-20ed-4c18-9015-e1beaab7972d was saved.', 'Data from 82657970-5eb2-4ca5-bf62-888c6421be05 was saved.', 'Data from 0fc8dae9-4b22-4b31-a158-9ddf7fbff177 was saved.', 'Data from 2d2b4950-789c-4ee9-a867-73eff0d6f3b3 was saved.', 'Data from 6ccd43c8-fe80-4530-873f-eb7db50e5b8a was saved.', 'Data from ab32369a-cae1-4801-8dae-401464c029fb was saved.', 'Data from ef3b6070-e465-43fa-8646-6bfbb1462f16 was saved.', 'Data from daeef545-33cc-4954-a06f-ad82bbf90383 was saved.', 'Data from f11bf52d-716d-47f2-a412-853eba918107 was saved.', 'Data from cf84e378-54e0-42b8-abe7-154c34ff223b was saved.', 'Data from dda31d24-6134-46d3-a2c6-88322e08e95f was saved.', 'Data from 88f00325-f3f6-4d8b-847b-15ba59e08389 was saved.', 'Data from 5cb8f8d0-65d9-407e-98f1-32c81dd1dcd7 was saved.', 'Data from fcd1d651-47fd-469f-8cc8-23ff82324ae9 was saved.', 'Data from 91a04e66-b383-401c-b2a5-f917046a881a was saved.', 'Data from f638b405-6f7a-4bb6-9c20-2038e2245fcb was saved.', 'Data from 0f488d29-d612-4c72-84f1-e349dda98c10 was saved.', 'Data from d03c6f49-7c90-473c-a582-b3a2f845dac6 was saved.', 'Data from 9eb3d127-9963-4e10-87b6-b75f2e0c5b00 was saved.', 'Data from f9d34d18-9393-421b-8de7-4136bbb5f2c7 was saved.', 'Data from ec175bbf-9030-4ca5-8142-11345ec78eb1 was saved.', 'Data from 25e05336-ad33-4d18-9f82-44170441e955 was saved.', 'Data from ed7a9899-1673-49fb-a562-ca941517dd99 was saved.', 'Data from a27a797e-cbbe-450d-8a7b-ca0df84d3ae9 was saved.', 'Data from 19e23d7b-f338-4a37-ab67-03372be86539 was saved.', 'Data from f60b6cb2-3882-40db-a1eb-75b1117fdd3e was saved.', 'Data from 99d2fbb4-87c3-417d-a2ff-ed95fae9c541 was saved.', 'Data from a596b618-4d30-4df8-8e5e-dc04d5c63be3 was saved.', 'Data from 4cd517d6-053f-49bb-8028-f9bf27dfcfbe was saved.', 'Data from 43c38127-6499-4ba5-9d54-0fe93d3e9aa5 was saved.', 'Data from 6778ae7a-7482-4d97-bff8-c8ed0ee3d474 was saved.', 'Data from af896fc2-f98e-4dab-8a56-783a5e6db30b was saved.', 'Data from 65d47fd5-a4da-4d68-9cbc-99f57893b07f was saved.', 'Data from f1210e8a-c3f8-49a3-9b73-779a069e047c was saved.', 'Data from abe928a4-c18d-47d6-969c-4a304048f7fb was saved.', 'Data from aaf84bc1-38ea-4835-9509-206fd5b271ef was saved.', 'Data from 299b39a0-b8f9-43a9-b187-56244aecc732 was saved.', 'Data from 42e09918-4dda-47e0-ae36-384d4e062000 was saved.', 'Data from 271be205-0fbd-408e-87ea-f07f81ce8ed5 was saved.', 'Data from c1c9a34e-c845-4f38-918a-84442499c04e was saved.', 'Data from 6dd3efd5-ef13-4af5-b9a2-8c09f2ac9110 was saved.', 'Data from c6376a3e-b633-4261-a8b0-677eff0a8426 was saved.', 'Data from 9a0ee09c-dab9-4d5d-b75c-5b8bfae45087 was saved.', 'Data from 729fe414-c451-43c7-98c8-f71bf5eadeec was saved.', 'Data from b893988b-fefb-4ea8-bddd-bfb5d3433949 was saved.', 'Data from 74ebe1cb-f36a-4eac-83d7-2606bee39f3c was saved.', 'Data from f7179aa1-e802-4e01-9f64-985e36ae3565 was saved.', 'Data from a43c08c1-7bd6-4f26-b551-e3ba3a4e3bdc was saved.', 'Data from 985b318f-131e-47bb-a80b-8e86e0f3bc39 was saved.', 'Data from cbfd4018-8ec4-4be7-b612-b96af2fd8f4c was saved.', 'Data from 596fe7d6-80db-4397-8e79-54a9e53ce8d7 was saved.', 'Data from f775d2ef-e312-47d2-87dd-7eea4aabf225 was saved.', 'Data from 59950f26-5e19-4317-ada2-6319165ceb4d was saved.', 'Data from 8eb1b4e5-5f46-4ce9-8a81-0543fab8fe66 was saved.', 'Data from a6f7c2a7-24b8-41c2-9341-99edcf779528 was saved.', 'Data from 9bb14ae4-2c83-4156-baf5-33ca4831c275 was saved.', 'Data from b3effa04-04e3-44b1-a512-ca077f41e38d was saved.', 'Data from e72e0737-6e20-4666-a7e2-e23948f4abc2 was saved.', 'Data from 22f598ea-44b3-4979-9f67-1fdaa3a505c0 was saved.', 'Data from 9229b7c2-1289-49e3-ad63-2adc8fabfb1b was saved.', 'Data from a316f359-afdc-48bd-8d36-6c0681ce788a was saved.', 'Data from f133ffb0-28fd-460a-84ef-8f208f32956b was saved.', 'Data from 9f143935-1efb-4275-96b9-e2a91d9905eb was saved.', 'Data from 75d412cf-b1e3-4a3f-98b5-99218c46b577 was saved.', 'Data from ddd4fa01-e260-457b-806f-a82bbaf8eba6 was saved.', 'Data from ed5760eb-ff9d-40a5-93d0-5bb512f96a7c was saved.', 'Data from 532fb91b-a715-44e6-ba28-a37d5c2d139c was saved.', 'Data from fe683540-3855-45e0-9fb1-e5575e481440 was saved.', 'Data from 2c0f6e34-84bc-400d-b4a1-10d2654d666c was saved.', 'Data from 61116a24-11b1-4b2d-9659-65417e13f34f was saved.', 'Data from 15a3fe06-71f7-4637-8f5e-0ea3874e89b2 was saved.', 'Data from e70aed5d-f69b-41c8-8ad6-8a7d1743a435 was saved.', 'Data from 6149a02f-8759-48ec-96eb-001d1e6a0bd7 was saved.', 'Data from b5a29973-9c6d-41ed-923b-34da7a76b2af was saved.', 'Data from b064d1c6-9ded-4805-b487-fb3b4e227724 was saved.', 'Data from 9aab24ae-e123-40fb-ad21-1055f95ca184 was saved.', 'Data from dae70d02-57e7-4287-af5f-43e37aaedb97 was saved.', 'Data from 0a721fe1-0374-4570-befb-0b0727401f72 was saved.', 'Data from 3549ad25-7fb5-4c46-9cf4-cc7068e0fc08 was saved.', 'Data from 6f78ed7f-e3ae-4a2b-b826-263b01640539 was saved.', 'Data from beadf028-a841-4c95-87f6-c093e50994ca was saved.', 'Data from cfa19b3d-5859-403b-aeef-a46b3951aa01 was saved.', 'Data from 8d20dff5-458a-48cb-b96c-357a8dbe0530 was saved.', 'Data from 6572fd18-9b03-4362-9069-8c94acc1df6c was saved.', 'Data from c51c63cf-cdf0-4dec-8248-35df17e74b99 was saved.', 'Data from b3938733-abc0-45ba-aef3-917d1121c695 was saved.', 'Data from 800748f9-46c8-4b2c-ae84-9bf593f7d3d6 was saved.', 'Data from 0e4ebf8c-2619-44bb-a6ab-96736679b606 was saved.', 'Data from 2ed7ba14-1624-47a8-812c-805e33df55d6 was saved.', 'Data from de73db9a-d932-47e1-a319-d892c733ecc6 was saved.', 'Data from 4848496b-2088-477d-bed1-bfce59c74b7c was saved.', 'Data from db09ec99-465f-4b4c-920a-5efa624d2c1a was saved.', 'Data from a1c46c31-0e9e-430d-b59d-86142e788ef9 was saved.', 'Data from c85afbde-ce07-4694-b4d3-f30f2a71dac8 was saved.', 'Data from e25e3254-b8ab-418f-88e4-8793b15386f4 was saved.', 'Data from 12f40d17-7936-4704-97e9-f0dbfd6d4a57 was saved.', 'Data from 775d6543-c2bf-4f98-8792-251755e45781 was saved.', 'Data from b43b9776-4776-46c7-9002-25e6a4823cc1 was saved.', 'Data from 66c6b292-1aa9-404a-8587-c379480d8a19 was saved.', 'Data from d47c2190-50df-48c8-9ade-4e7e2944eb79 was saved.', 'Data from 68f06cc5-0412-42b9-936c-72c2dc40fcc8 was saved.', 'Data from b87a3c42-d214-4ee5-94c3-d1f6297f5c3f was saved.', 'Data from 4e7d749e-de88-40c1-b282-e91faf477be7 was saved.', 'Data from e3f749e1-bb78-475f-b5c7-e987c8283762 was saved.', 'Data from 90a4474d-c4c2-4d57-b204-9d1dc8f3f790 was saved.', 'Data from 529cc698-08b8-4136-8f15-fb4c5f5ac823 was saved.', 'Data from 2a6a7c6f-68df-4103-ad6c-99f235b552fe was saved.', 'Data from 72ed46dd-04c8-4b84-867a-8052f0cc6d07 was saved.', 'Data from b550ddf1-f2de-4df3-8902-54b2737d6159 was saved.', 'Data from 44b9bd75-71cd-4578-baf5-a0f74b3419dd was saved.', 'Data from 7635b3de-be52-41ed-bd21-c2b45ccbc34a was saved.', 'Data from 8a23a279-9eb0-441a-8ae5-79ecad6adc2a was saved.', 'Data from 61d127d1-b55e-410a-8310-299e519fede7 was saved.', 'Data from abad3126-74cb-44d9-9d91-f3ab3c548292 was saved.', 'Data from c4afc740-7e6c-41f7-afc7-5a0deeafab13 was saved.', 'Data from 364f8574-602a-4e88-a0fa-50160021f000 was saved.', 'Data from 6a432a78-b07a-4565-82e1-6f6c6bb3f823 was saved.', 'Data from 849cb2c8-07d1-47a9-b1f1-0028a16821f8 was saved.', 'Data from 3829564c-4e28-4360-8bb8-4f9602177d4f was saved.', 'Data from a479fbdf-aa75-4ba6-8235-0afac01c9049 was saved.', 'Data from ac8456dd-59ae-42ba-a276-7d45c24532f6 was saved.', 'Data from d946b47f-c2d5-42b8-ac6a-3bfa29c854da was saved.', 'Data from 4298a9d5-9675-4364-8a12-8b35c8bc6d7b was saved.', 'Data from e29ee477-b2ba-4bf2-b034-f8f368525455 was saved.', 'Data from c10f9665-308a-4446-8de8-83f05ec60f30 was saved.', 'Data from 5cda4bba-c71b-4eb7-84bf-1363feb12d21 was saved.', 'Data from f679f346-f9c8-4f95-bbe0-8ea937c0042e was saved.', 'Data from 3d5a8e5f-bdf9-42d8-b79f-919e1b45d218 was saved.', 'Data from 3e5d7073-84c7-4594-b447-8e1a097e4ec0 was saved.', 'Data from 1399aa64-513c-4618-a565-8e848ad0f2c5 was saved.', 'Data from 2a9a3073-3d03-4e76-aa71-a352682d9369 was saved.', 'Data from 15fce15f-3359-4700-b489-ef6d6eb2d839 was saved.', 'Data from 9fd1e1ba-c397-4e34-a379-6ca9f38a6baf was saved.', 'Data from 8be432e3-b28d-431f-b165-2f94fd147830 was saved.', 'Data from 017e1d0a-9e69-4f93-9e5b-ff9ed1aa8a9d was saved.', 'Data from e22241e8-6ef5-49a3-89ab-72e362d61fd9 was saved.', 'Data from 7c14d12a-0087-4f27-9336-0886a3732dfb was saved.', 'Data from 8eaefab8-abc8-491c-a485-4da2f24565e6 was saved.', 'Data from e9241535-b174-484e-b65b-b9fa217dd814 was saved.', 'Data from ed7f7f17-9979-4816-809b-acc748b3c8c4 was saved.', 'Data from 9323aad7-7326-4a44-9b9d-a8f64077a6a2 was saved.', 'Data from d3d3da09-c80c-48a1-bf77-4c1b2717f5fd was saved.', 'Data from daa495da-52de-47c7-aa73-a468b0f3c2d8 was saved.', 'Data from 801bb84e-955c-424c-b9b0-cabcd1cdb81d was saved.', 'Data from a71fb45d-c9f3-4f5f-86f5-4b4bcbc3f1ac was saved.', 'Data from eff04c3c-f1ff-4542-8f3a-ec4a88d8c8b8 was saved.', 'Data from db250196-32ea-4f8b-ab91-a4c879351441 was saved.', 'Data from ce934c20-7ee9-403b-ba91-1ba4094bd35d was saved.', 'Data from 1cede5d5-5430-4df0-9d07-fb9c60b2ac36 was saved.', 'Data from e77396df-5efe-4418-83f1-9fba59f0f3f4 was saved.', 'Data from 4eb16cba-92a9-40f7-88e5-dd4a649f8ed0 was saved.', 'Data from 159c5111-ea32-40f7-b62a-daf34ae9e23e was saved.', 'Data from 1dec942c-903c-438d-837b-4a44260c24a8 was saved.', 'Data from 031d5d9c-599d-4d84-a44a-5d4df63f7d35 was saved.', 'Data from 17c7f13c-e6f6-4f76-88d6-cc5581ffdd27 was saved.', 'Data from a8b57ff2-3393-454d-8e47-4f6dabf38cbc was saved.', 'Data from c616f243-fe04-4e89-888a-bf9f75de7d3a was saved.', 'Data from f4fd699f-2f9b-46cd-ab2f-10700d52b84c was saved.', 'Data from 4ae2a01e-3ade-4184-b52e-00db740a3a63 was saved.', 'Data from 1bfc9628-35e7-409e-8433-3087cc109215 was saved.', 'Data from bc5e934c-6afa-4fde-847d-0ca6e3c2884b was saved.', 'Data from 9d7bf31c-1cb7-45f7-a9e1-b44712c117a2 was saved.', 'Data from 40e7be29-071e-4db2-a7e8-481187c133bc was saved.', 'Data from 767c7852-7761-416f-be38-db6d493e5f0a was saved.', 'Data from 045e76f5-c5a7-42fe-a341-666baea3546f was saved.', 'Data from 00a3d9fa-012e-41e4-a35f-add2204beff5 was saved.', 'Data from 6ac04262-f1fd-4144-a75c-3c233d29757f was saved.', 'Data from 4f3897a8-d510-4eb8-8e3f-d892004aa2d9 was saved.', 'Data from b6c45fb7-b95e-420b-ae6e-0c397a5ac20e was saved.', 'Data from 19337b1e-84a2-4197-814c-8baeab88c1f1 was saved.', 'Data from 84717d46-b5a0-4b06-8360-c7c7f50b0ea4 was saved.', 'Data from ffae2f50-55b5-4155-b60b-e11fbaf3c36f was saved.', 'Data from 1bde281f-01d8-4f76-8bfa-d371fba5163b was saved.', 'Data from 2c4b8d63-2ba2-4d24-8c9f-1b200e19e57f was saved.', 'Data from 4b09669a-a733-468c-a65a-8a38c0ae48db was saved.', 'Data from a4ceafa7-fd73-4591-8fea-42af826da1c7 was saved.', 'Data from 5b4be5e6-343a-44cc-b753-7caeb08cd3b0 was saved.', 'Data from 43e1c7af-9411-4e54-a524-053701e8ff69 was saved.', 'Data from 615f1eff-a9ec-40f1-a07d-30e5b0db49fa was saved.', 'Data from 8dbbb046-78b8-4150-8d42-1937c3f0c7f7 was saved.', 'Data from 2465f5e9-295b-4dee-8e84-21c3b0df48ff was saved.', 'Data from fe21cc54-4f40-426d-9509-4d2a46a69b38 was saved.', 'Data from 67f913b7-698c-4240-8634-d89e5f984ca7 was saved.', 'Data from 8ed8e281-d1dd-4b92-98b1-d780d39def83 was saved.', 'Data from a4fb0c0b-cb17-47f8-a1ea-2b17632cf485 was saved.', 'Data from d3af355b-1c47-46f7-976d-b6a33f930bc0 was saved.', 'Data from 521984a2-484f-4765-ad0c-9e4a7f3d5d31 was saved.', 'Data from a8fa093f-ba8b-4a14-af6f-8dede496b9c9 was saved.', 'Data from 60b7f673-2c3e-4431-a127-2dd0b7833694 was saved.', 'Data from 7515ba6e-3ebb-4c5b-a961-dc2cde13e256 was saved.', 'Data from 349a6962-3294-4794-a638-99bee0ebdec7 was saved.', 'Data from af3f7a2e-10ca-4203-9de3-37fd14dd88a7 was saved.', 'Data from ee27d2f4-a885-41ad-ac0d-dad5d2067c4d was saved.', 'Data from 4ca482ae-5f8c-4bce-a905-f7f909f36621 was saved.', 'Data from 257bc41b-53cb-49d0-932e-a32902333927 was saved.', 'Data from a91a1570-2d8c-4eb1-93aa-45dd470ca7cf was saved.', 'Data from 4caa4646-457d-4430-bb8d-25acc47326ca was saved.', 'Data from 172dcea1-d920-47ab-87b9-e4a197e6a1a7 was saved.', 'Data from 8f9a7e1f-1cf1-41c4-a7c5-d726974db1ec was saved.', 'Data from 07d90fbf-3948-4aa0-a998-961f05616556 was saved.', 'Data from 82a133d6-32cf-4b25-8cad-b0f43349fb89 was saved.', 'Data from e6c62007-0b13-41f3-a7b0-cdc45f2936df was saved.', 'Data from db7c8176-4cd9-40bf-a43a-39c0f01bae81 was saved.', 'Data from ec3779ef-d8c3-40c9-8ab5-e633534496c7 was saved.', 'Data from 7aa144d1-cfd1-42ee-b365-28a05b301b1f was saved.', 'Data from 8a3cf819-d3d0-465b-b194-ad99d9fca341 was saved.', 'Data from 45b60b4c-c0b3-4853-a4d8-a3667a6efd4b was saved.', 'Data from cca580b8-01b7-43b1-85c6-7592f8b4fa65 was saved.', 'Data from b4d997c6-70e7-479e-a580-78c2b1d718d0 was saved.', 'Data from 4e889b7b-b0c4-43a3-a2c4-a20fb5b24555 was saved.', 'Data from 90e8a150-4bf0-4070-ba20-2ff775e82772 was saved.', 'Data from 3ed9e925-2de7-4b59-956f-16aea06af56c was saved.', 'Data from 426b79b1-3b68-4967-9e98-ce6a740dd1e5 was saved.', 'Data from b859c978-d758-49e4-9818-371ffe15db20 was saved.', 'Data from a3405ee9-7384-4064-9df5-58b789718064 was saved.', 'Data from bc4899c4-70ce-47df-b586-445641e6068d was saved.', 'Data from 1888475d-8f26-4b0d-bd23-b9fb82e165a7 was saved.', 'Data from 6418e7b2-39d6-4ac4-bc2e-7f5518ecf798 was saved.', 'Data from 56ef01bd-6e1d-450c-90bb-fc53fe2922e9 was saved.', 'Data from 101c517b-29a4-4c49-8934-f6c56ddd882d was saved.', 'Data from b2e1c50a-1533-4145-a1a2-0befca0154d5 was saved.', 'Data from 18e8f963-da33-4682-9312-57ca2cc9ad8d was saved.', 'Data from 083d22df-ed50-4687-b9ab-1649960a0fbe was saved.', 'Data from f498c48a-981d-43cf-ac16-151b8794435c was saved.']\n"
     ]
    }
   ],
   "source": [
    "\n",
    "with open('./multiout.csv', 'w', newline='\\n') as csv_file:\n",
    "    # Create a CSV writer\n",
    "    csv_writer = csv.writer(csv_file)\n",
    "\n",
    "    # Write the headers to the CSV file\n",
    "    csv_writer.writerow(csv_headers)\n",
    "\n",
    "    # Create a list of tuples, each containing arguments for a single function call\n",
    "    args_list = [(incident_id, csv_file.name) for incident_id in ids]\n",
    "\n",
    "    with Pool() as p:\n",
    "        results = p.map(multi_generate_canadian_avalanche_data, args_list)\n",
    "\n",
    "    # Process the results if needed\n",
    "    print(results)"
   ]
  },
  {
   "cell_type": "code",
   "execution_count": 105,
   "id": "518f3298",
   "metadata": {},
   "outputs": [
    {
     "data": {
      "text/plain": [
       "'Data was saved.'"
      ]
     },
     "execution_count": 105,
     "metadata": {},
     "output_type": "execute_result"
    }
   ],
   "source": [
    "generate_canadian_avalanche_data(ids, './single_out.csv')"
   ]
  },
  {
   "cell_type": "code",
   "execution_count": 48,
   "id": "2e224145",
   "metadata": {},
   "outputs": [
    {
     "name": "stdout",
     "output_type": "stream",
     "text": [
      "1.96 s ± 60.2 ms per loop (mean ± std. dev. of 7 runs, 1 loop each)\n"
     ]
    }
   ],
   "source": [
    "%%timeit \n",
    "fetch_and_write_to_csv(ids[:50], output_csv_file)"
   ]
  },
  {
   "cell_type": "code",
   "execution_count": 49,
   "id": "0b23915e",
   "metadata": {},
   "outputs": [
    {
     "name": "stdout",
     "output_type": "stream",
     "text": [
      "2.09 s ± 26.7 ms per loop (mean ± std. dev. of 7 runs, 1 loop each)\n"
     ]
    }
   ],
   "source": [
    "%%timeit\n",
    "generate_canadian_avalanche_data(ids[:50])"
   ]
  },
  {
   "cell_type": "code",
   "execution_count": 9,
   "id": "4350e70b",
   "metadata": {},
   "outputs": [
    {
     "data": {
      "text/plain": [
       "'761a8854-758d-4a16-8d90-75d1b999ef02'"
      ]
     },
     "execution_count": 9,
     "metadata": {},
     "output_type": "execute_result"
    }
   ],
   "source": [
    "ids[0]"
   ]
  },
  {
   "cell_type": "code",
   "execution_count": 51,
   "id": "ba4f9385",
   "metadata": {
    "scrolled": false
   },
   "outputs": [
    {
     "ename": "ValueError",
     "evalue": "All arrays must be of the same length",
     "output_type": "error",
     "traceback": [
      "\u001b[0;31m---------------------------------------------------------------------------\u001b[0m",
      "\u001b[0;31mValueError\u001b[0m                                Traceback (most recent call last)",
      "Cell \u001b[0;32mIn[51], line 2\u001b[0m\n\u001b[1;32m      1\u001b[0m src \u001b[38;5;241m=\u001b[39m \u001b[38;5;124m\"\u001b[39m\u001b[38;5;124mhttps://incidents.avalanche.ca/public/incidents/6dad9a7f-e732-43cf-8058-5fcac24c7041/?format=json\u001b[39m\u001b[38;5;124m\"\u001b[39m\n\u001b[0;32m----> 2\u001b[0m \u001b[43mpd\u001b[49m\u001b[38;5;241;43m.\u001b[39;49m\u001b[43mread_json\u001b[49m\u001b[43m(\u001b[49m\u001b[43msrc\u001b[49m\u001b[43m)\u001b[49m\n",
      "File \u001b[0;32m~/ava-polars/env/lib/python3.9/site-packages/pandas/io/json/_json.py:784\u001b[0m, in \u001b[0;36mread_json\u001b[0;34m(path_or_buf, orient, typ, dtype, convert_axes, convert_dates, keep_default_dates, precise_float, date_unit, encoding, encoding_errors, lines, chunksize, compression, nrows, storage_options, dtype_backend, engine)\u001b[0m\n\u001b[1;32m    782\u001b[0m     \u001b[38;5;28;01mreturn\u001b[39;00m json_reader\n\u001b[1;32m    783\u001b[0m \u001b[38;5;28;01melse\u001b[39;00m:\n\u001b[0;32m--> 784\u001b[0m     \u001b[38;5;28;01mreturn\u001b[39;00m \u001b[43mjson_reader\u001b[49m\u001b[38;5;241;43m.\u001b[39;49m\u001b[43mread\u001b[49m\u001b[43m(\u001b[49m\u001b[43m)\u001b[49m\n",
      "File \u001b[0;32m~/ava-polars/env/lib/python3.9/site-packages/pandas/io/json/_json.py:975\u001b[0m, in \u001b[0;36mJsonReader.read\u001b[0;34m(self)\u001b[0m\n\u001b[1;32m    973\u001b[0m         obj \u001b[38;5;241m=\u001b[39m \u001b[38;5;28mself\u001b[39m\u001b[38;5;241m.\u001b[39m_get_object_parser(\u001b[38;5;28mself\u001b[39m\u001b[38;5;241m.\u001b[39m_combine_lines(data_lines))\n\u001b[1;32m    974\u001b[0m \u001b[38;5;28;01melse\u001b[39;00m:\n\u001b[0;32m--> 975\u001b[0m     obj \u001b[38;5;241m=\u001b[39m \u001b[38;5;28;43mself\u001b[39;49m\u001b[38;5;241;43m.\u001b[39;49m\u001b[43m_get_object_parser\u001b[49m\u001b[43m(\u001b[49m\u001b[38;5;28;43mself\u001b[39;49m\u001b[38;5;241;43m.\u001b[39;49m\u001b[43mdata\u001b[49m\u001b[43m)\u001b[49m\n\u001b[1;32m    976\u001b[0m \u001b[38;5;28;01mif\u001b[39;00m \u001b[38;5;28mself\u001b[39m\u001b[38;5;241m.\u001b[39mdtype_backend \u001b[38;5;129;01mis\u001b[39;00m \u001b[38;5;129;01mnot\u001b[39;00m lib\u001b[38;5;241m.\u001b[39mno_default:\n\u001b[1;32m    977\u001b[0m     \u001b[38;5;28;01mreturn\u001b[39;00m obj\u001b[38;5;241m.\u001b[39mconvert_dtypes(\n\u001b[1;32m    978\u001b[0m         infer_objects\u001b[38;5;241m=\u001b[39m\u001b[38;5;28;01mFalse\u001b[39;00m, dtype_backend\u001b[38;5;241m=\u001b[39m\u001b[38;5;28mself\u001b[39m\u001b[38;5;241m.\u001b[39mdtype_backend\n\u001b[1;32m    979\u001b[0m     )\n",
      "File \u001b[0;32m~/ava-polars/env/lib/python3.9/site-packages/pandas/io/json/_json.py:1001\u001b[0m, in \u001b[0;36mJsonReader._get_object_parser\u001b[0;34m(self, json)\u001b[0m\n\u001b[1;32m    999\u001b[0m obj \u001b[38;5;241m=\u001b[39m \u001b[38;5;28;01mNone\u001b[39;00m\n\u001b[1;32m   1000\u001b[0m \u001b[38;5;28;01mif\u001b[39;00m typ \u001b[38;5;241m==\u001b[39m \u001b[38;5;124m\"\u001b[39m\u001b[38;5;124mframe\u001b[39m\u001b[38;5;124m\"\u001b[39m:\n\u001b[0;32m-> 1001\u001b[0m     obj \u001b[38;5;241m=\u001b[39m \u001b[43mFrameParser\u001b[49m\u001b[43m(\u001b[49m\u001b[43mjson\u001b[49m\u001b[43m,\u001b[49m\u001b[43m \u001b[49m\u001b[38;5;241;43m*\u001b[39;49m\u001b[38;5;241;43m*\u001b[39;49m\u001b[43mkwargs\u001b[49m\u001b[43m)\u001b[49m\u001b[38;5;241;43m.\u001b[39;49m\u001b[43mparse\u001b[49m\u001b[43m(\u001b[49m\u001b[43m)\u001b[49m\n\u001b[1;32m   1003\u001b[0m \u001b[38;5;28;01mif\u001b[39;00m typ \u001b[38;5;241m==\u001b[39m \u001b[38;5;124m\"\u001b[39m\u001b[38;5;124mseries\u001b[39m\u001b[38;5;124m\"\u001b[39m \u001b[38;5;129;01mor\u001b[39;00m obj \u001b[38;5;129;01mis\u001b[39;00m \u001b[38;5;28;01mNone\u001b[39;00m:\n\u001b[1;32m   1004\u001b[0m     \u001b[38;5;28;01mif\u001b[39;00m \u001b[38;5;129;01mnot\u001b[39;00m \u001b[38;5;28misinstance\u001b[39m(dtype, \u001b[38;5;28mbool\u001b[39m):\n",
      "File \u001b[0;32m~/ava-polars/env/lib/python3.9/site-packages/pandas/io/json/_json.py:1134\u001b[0m, in \u001b[0;36mParser.parse\u001b[0;34m(self)\u001b[0m\n\u001b[1;32m   1133\u001b[0m \u001b[38;5;28;01mdef\u001b[39;00m \u001b[38;5;21mparse\u001b[39m(\u001b[38;5;28mself\u001b[39m):\n\u001b[0;32m-> 1134\u001b[0m     \u001b[38;5;28;43mself\u001b[39;49m\u001b[38;5;241;43m.\u001b[39;49m\u001b[43m_parse\u001b[49m\u001b[43m(\u001b[49m\u001b[43m)\u001b[49m\n\u001b[1;32m   1136\u001b[0m     \u001b[38;5;28;01mif\u001b[39;00m \u001b[38;5;28mself\u001b[39m\u001b[38;5;241m.\u001b[39mobj \u001b[38;5;129;01mis\u001b[39;00m \u001b[38;5;28;01mNone\u001b[39;00m:\n\u001b[1;32m   1137\u001b[0m         \u001b[38;5;28;01mreturn\u001b[39;00m \u001b[38;5;28;01mNone\u001b[39;00m\n",
      "File \u001b[0;32m~/ava-polars/env/lib/python3.9/site-packages/pandas/io/json/_json.py:1319\u001b[0m, in \u001b[0;36mFrameParser._parse\u001b[0;34m(self)\u001b[0m\n\u001b[1;32m   1316\u001b[0m orient \u001b[38;5;241m=\u001b[39m \u001b[38;5;28mself\u001b[39m\u001b[38;5;241m.\u001b[39morient\n\u001b[1;32m   1318\u001b[0m \u001b[38;5;28;01mif\u001b[39;00m orient \u001b[38;5;241m==\u001b[39m \u001b[38;5;124m\"\u001b[39m\u001b[38;5;124mcolumns\u001b[39m\u001b[38;5;124m\"\u001b[39m:\n\u001b[0;32m-> 1319\u001b[0m     \u001b[38;5;28mself\u001b[39m\u001b[38;5;241m.\u001b[39mobj \u001b[38;5;241m=\u001b[39m \u001b[43mDataFrame\u001b[49m\u001b[43m(\u001b[49m\n\u001b[1;32m   1320\u001b[0m \u001b[43m        \u001b[49m\u001b[43mloads\u001b[49m\u001b[43m(\u001b[49m\u001b[43mjson\u001b[49m\u001b[43m,\u001b[49m\u001b[43m \u001b[49m\u001b[43mprecise_float\u001b[49m\u001b[38;5;241;43m=\u001b[39;49m\u001b[38;5;28;43mself\u001b[39;49m\u001b[38;5;241;43m.\u001b[39;49m\u001b[43mprecise_float\u001b[49m\u001b[43m)\u001b[49m\u001b[43m,\u001b[49m\u001b[43m \u001b[49m\u001b[43mdtype\u001b[49m\u001b[38;5;241;43m=\u001b[39;49m\u001b[38;5;28;43;01mNone\u001b[39;49;00m\n\u001b[1;32m   1321\u001b[0m \u001b[43m    \u001b[49m\u001b[43m)\u001b[49m\n\u001b[1;32m   1322\u001b[0m \u001b[38;5;28;01melif\u001b[39;00m orient \u001b[38;5;241m==\u001b[39m \u001b[38;5;124m\"\u001b[39m\u001b[38;5;124msplit\u001b[39m\u001b[38;5;124m\"\u001b[39m:\n\u001b[1;32m   1323\u001b[0m     decoded \u001b[38;5;241m=\u001b[39m {\n\u001b[1;32m   1324\u001b[0m         \u001b[38;5;28mstr\u001b[39m(k): v\n\u001b[1;32m   1325\u001b[0m         \u001b[38;5;28;01mfor\u001b[39;00m k, v \u001b[38;5;129;01min\u001b[39;00m loads(json, precise_float\u001b[38;5;241m=\u001b[39m\u001b[38;5;28mself\u001b[39m\u001b[38;5;241m.\u001b[39mprecise_float)\u001b[38;5;241m.\u001b[39mitems()\n\u001b[1;32m   1326\u001b[0m     }\n",
      "File \u001b[0;32m~/ava-polars/env/lib/python3.9/site-packages/pandas/core/frame.py:709\u001b[0m, in \u001b[0;36mDataFrame.__init__\u001b[0;34m(self, data, index, columns, dtype, copy)\u001b[0m\n\u001b[1;32m    703\u001b[0m     mgr \u001b[38;5;241m=\u001b[39m \u001b[38;5;28mself\u001b[39m\u001b[38;5;241m.\u001b[39m_init_mgr(\n\u001b[1;32m    704\u001b[0m         data, axes\u001b[38;5;241m=\u001b[39m{\u001b[38;5;124m\"\u001b[39m\u001b[38;5;124mindex\u001b[39m\u001b[38;5;124m\"\u001b[39m: index, \u001b[38;5;124m\"\u001b[39m\u001b[38;5;124mcolumns\u001b[39m\u001b[38;5;124m\"\u001b[39m: columns}, dtype\u001b[38;5;241m=\u001b[39mdtype, copy\u001b[38;5;241m=\u001b[39mcopy\n\u001b[1;32m    705\u001b[0m     )\n\u001b[1;32m    707\u001b[0m \u001b[38;5;28;01melif\u001b[39;00m \u001b[38;5;28misinstance\u001b[39m(data, \u001b[38;5;28mdict\u001b[39m):\n\u001b[1;32m    708\u001b[0m     \u001b[38;5;66;03m# GH#38939 de facto copy defaults to False only in non-dict cases\u001b[39;00m\n\u001b[0;32m--> 709\u001b[0m     mgr \u001b[38;5;241m=\u001b[39m \u001b[43mdict_to_mgr\u001b[49m\u001b[43m(\u001b[49m\u001b[43mdata\u001b[49m\u001b[43m,\u001b[49m\u001b[43m \u001b[49m\u001b[43mindex\u001b[49m\u001b[43m,\u001b[49m\u001b[43m \u001b[49m\u001b[43mcolumns\u001b[49m\u001b[43m,\u001b[49m\u001b[43m \u001b[49m\u001b[43mdtype\u001b[49m\u001b[38;5;241;43m=\u001b[39;49m\u001b[43mdtype\u001b[49m\u001b[43m,\u001b[49m\u001b[43m \u001b[49m\u001b[43mcopy\u001b[49m\u001b[38;5;241;43m=\u001b[39;49m\u001b[43mcopy\u001b[49m\u001b[43m,\u001b[49m\u001b[43m \u001b[49m\u001b[43mtyp\u001b[49m\u001b[38;5;241;43m=\u001b[39;49m\u001b[43mmanager\u001b[49m\u001b[43m)\u001b[49m\n\u001b[1;32m    710\u001b[0m \u001b[38;5;28;01melif\u001b[39;00m \u001b[38;5;28misinstance\u001b[39m(data, ma\u001b[38;5;241m.\u001b[39mMaskedArray):\n\u001b[1;32m    711\u001b[0m     \u001b[38;5;28;01mfrom\u001b[39;00m \u001b[38;5;21;01mnumpy\u001b[39;00m\u001b[38;5;21;01m.\u001b[39;00m\u001b[38;5;21;01mma\u001b[39;00m \u001b[38;5;28;01mimport\u001b[39;00m mrecords\n",
      "File \u001b[0;32m~/ava-polars/env/lib/python3.9/site-packages/pandas/core/internals/construction.py:481\u001b[0m, in \u001b[0;36mdict_to_mgr\u001b[0;34m(data, index, columns, dtype, typ, copy)\u001b[0m\n\u001b[1;32m    477\u001b[0m     \u001b[38;5;28;01melse\u001b[39;00m:\n\u001b[1;32m    478\u001b[0m         \u001b[38;5;66;03m# dtype check to exclude e.g. range objects, scalars\u001b[39;00m\n\u001b[1;32m    479\u001b[0m         arrays \u001b[38;5;241m=\u001b[39m [x\u001b[38;5;241m.\u001b[39mcopy() \u001b[38;5;28;01mif\u001b[39;00m \u001b[38;5;28mhasattr\u001b[39m(x, \u001b[38;5;124m\"\u001b[39m\u001b[38;5;124mdtype\u001b[39m\u001b[38;5;124m\"\u001b[39m) \u001b[38;5;28;01melse\u001b[39;00m x \u001b[38;5;28;01mfor\u001b[39;00m x \u001b[38;5;129;01min\u001b[39;00m arrays]\n\u001b[0;32m--> 481\u001b[0m \u001b[38;5;28;01mreturn\u001b[39;00m \u001b[43marrays_to_mgr\u001b[49m\u001b[43m(\u001b[49m\u001b[43marrays\u001b[49m\u001b[43m,\u001b[49m\u001b[43m \u001b[49m\u001b[43mcolumns\u001b[49m\u001b[43m,\u001b[49m\u001b[43m \u001b[49m\u001b[43mindex\u001b[49m\u001b[43m,\u001b[49m\u001b[43m \u001b[49m\u001b[43mdtype\u001b[49m\u001b[38;5;241;43m=\u001b[39;49m\u001b[43mdtype\u001b[49m\u001b[43m,\u001b[49m\u001b[43m \u001b[49m\u001b[43mtyp\u001b[49m\u001b[38;5;241;43m=\u001b[39;49m\u001b[43mtyp\u001b[49m\u001b[43m,\u001b[49m\u001b[43m \u001b[49m\u001b[43mconsolidate\u001b[49m\u001b[38;5;241;43m=\u001b[39;49m\u001b[43mcopy\u001b[49m\u001b[43m)\u001b[49m\n",
      "File \u001b[0;32m~/ava-polars/env/lib/python3.9/site-packages/pandas/core/internals/construction.py:115\u001b[0m, in \u001b[0;36marrays_to_mgr\u001b[0;34m(arrays, columns, index, dtype, verify_integrity, typ, consolidate)\u001b[0m\n\u001b[1;32m    112\u001b[0m \u001b[38;5;28;01mif\u001b[39;00m verify_integrity:\n\u001b[1;32m    113\u001b[0m     \u001b[38;5;66;03m# figure out the index, if necessary\u001b[39;00m\n\u001b[1;32m    114\u001b[0m     \u001b[38;5;28;01mif\u001b[39;00m index \u001b[38;5;129;01mis\u001b[39;00m \u001b[38;5;28;01mNone\u001b[39;00m:\n\u001b[0;32m--> 115\u001b[0m         index \u001b[38;5;241m=\u001b[39m \u001b[43m_extract_index\u001b[49m\u001b[43m(\u001b[49m\u001b[43marrays\u001b[49m\u001b[43m)\u001b[49m\n\u001b[1;32m    116\u001b[0m     \u001b[38;5;28;01melse\u001b[39;00m:\n\u001b[1;32m    117\u001b[0m         index \u001b[38;5;241m=\u001b[39m ensure_index(index)\n",
      "File \u001b[0;32m~/ava-polars/env/lib/python3.9/site-packages/pandas/core/internals/construction.py:655\u001b[0m, in \u001b[0;36m_extract_index\u001b[0;34m(data)\u001b[0m\n\u001b[1;32m    653\u001b[0m lengths \u001b[38;5;241m=\u001b[39m \u001b[38;5;28mlist\u001b[39m(\u001b[38;5;28mset\u001b[39m(raw_lengths))\n\u001b[1;32m    654\u001b[0m \u001b[38;5;28;01mif\u001b[39;00m \u001b[38;5;28mlen\u001b[39m(lengths) \u001b[38;5;241m>\u001b[39m \u001b[38;5;241m1\u001b[39m:\n\u001b[0;32m--> 655\u001b[0m     \u001b[38;5;28;01mraise\u001b[39;00m \u001b[38;5;167;01mValueError\u001b[39;00m(\u001b[38;5;124m\"\u001b[39m\u001b[38;5;124mAll arrays must be of the same length\u001b[39m\u001b[38;5;124m\"\u001b[39m)\n\u001b[1;32m    657\u001b[0m \u001b[38;5;28;01mif\u001b[39;00m have_dicts:\n\u001b[1;32m    658\u001b[0m     \u001b[38;5;28;01mraise\u001b[39;00m \u001b[38;5;167;01mValueError\u001b[39;00m(\n\u001b[1;32m    659\u001b[0m         \u001b[38;5;124m\"\u001b[39m\u001b[38;5;124mMixing dicts with non-Series may lead to ambiguous ordering.\u001b[39m\u001b[38;5;124m\"\u001b[39m\n\u001b[1;32m    660\u001b[0m     )\n",
      "\u001b[0;31mValueError\u001b[0m: All arrays must be of the same length"
     ]
    }
   ],
   "source": [
    "\n",
    "src = \"https://incidents.avalanche.ca/public/incidents/6dad9a7f-e732-43cf-8058-5fcac24c7041/?format=json\"\n",
    "pd.read_json(src)"
   ]
  },
  {
   "cell_type": "code",
   "execution_count": 52,
   "id": "1644e284",
   "metadata": {},
   "outputs": [
    {
     "data": {
      "text/html": [
       "<div>\n",
       "<style scoped>\n",
       "    .dataframe tbody tr th:only-of-type {\n",
       "        vertical-align: middle;\n",
       "    }\n",
       "\n",
       "    .dataframe tbody tr th {\n",
       "        vertical-align: top;\n",
       "    }\n",
       "\n",
       "    .dataframe thead th {\n",
       "        text-align: right;\n",
       "    }\n",
       "</style>\n",
       "<table border=\"1\" class=\"dataframe\">\n",
       "  <thead>\n",
       "    <tr style=\"text-align: right;\">\n",
       "      <th></th>\n",
       "      <th>id</th>\n",
       "      <th>ob_date</th>\n",
       "      <th>location</th>\n",
       "      <th>location_desc</th>\n",
       "      <th>location_coords</th>\n",
       "      <th>location_coords_type</th>\n",
       "      <th>location_elevation</th>\n",
       "      <th>location_province</th>\n",
       "      <th>num_involved</th>\n",
       "      <th>num_injured</th>\n",
       "      <th>...</th>\n",
       "      <th>weather_obs.temp_min</th>\n",
       "      <th>weather_obs.temp_trend</th>\n",
       "      <th>weather_obs.wind_speed</th>\n",
       "      <th>weather_obs.wind_dir</th>\n",
       "      <th>weather_obs.sky</th>\n",
       "      <th>weather_obs.precip</th>\n",
       "      <th>snowpack_obs.hs</th>\n",
       "      <th>snowpack_obs.hn24</th>\n",
       "      <th>snowpack_obs.hst</th>\n",
       "      <th>snowpack_obs.hst_reset</th>\n",
       "    </tr>\n",
       "  </thead>\n",
       "  <tbody>\n",
       "    <tr>\n",
       "      <th>0</th>\n",
       "      <td>6dad9a7f-e732-43cf-8058-5fcac24c7041</td>\n",
       "      <td>2023-04-22</td>\n",
       "      <td>Lake Louise West Bowl</td>\n",
       "      <td>Lake Louise Ski Resort</td>\n",
       "      <td>[51.467515, -116.145756]</td>\n",
       "      <td>Lat/lng</td>\n",
       "      <td>2550.0</td>\n",
       "      <td>AB</td>\n",
       "      <td>2</td>\n",
       "      <td>1</td>\n",
       "      <td>...</td>\n",
       "      <td>None</td>\n",
       "      <td>None</td>\n",
       "      <td>None</td>\n",
       "      <td>None</td>\n",
       "      <td>None</td>\n",
       "      <td>None</td>\n",
       "      <td>None</td>\n",
       "      <td>None</td>\n",
       "      <td>None</td>\n",
       "      <td>None</td>\n",
       "    </tr>\n",
       "  </tbody>\n",
       "</table>\n",
       "<p>1 rows × 29 columns</p>\n",
       "</div>"
      ],
      "text/plain": [
       "                                     id     ob_date               location  \\\n",
       "0  6dad9a7f-e732-43cf-8058-5fcac24c7041  2023-04-22  Lake Louise West Bowl   \n",
       "\n",
       "            location_desc           location_coords location_coords_type  \\\n",
       "0  Lake Louise Ski Resort  [51.467515, -116.145756]              Lat/lng   \n",
       "\n",
       "   location_elevation location_province  num_involved  num_injured  ...  \\\n",
       "0              2550.0                AB             2            1  ...   \n",
       "\n",
       "   weather_obs.temp_min weather_obs.temp_trend weather_obs.wind_speed  \\\n",
       "0                  None                   None                   None   \n",
       "\n",
       "  weather_obs.wind_dir weather_obs.sky weather_obs.precip snowpack_obs.hs  \\\n",
       "0                 None            None               None            None   \n",
       "\n",
       "  snowpack_obs.hn24 snowpack_obs.hst snowpack_obs.hst_reset  \n",
       "0              None             None                   None  \n",
       "\n",
       "[1 rows x 29 columns]"
      ]
     },
     "execution_count": 52,
     "metadata": {},
     "output_type": "execute_result"
    }
   ],
   "source": [
    "data = requests.get(src).json()\n",
    "pd.json_normalize(data)"
   ]
  },
  {
   "cell_type": "code",
   "execution_count": 56,
   "id": "363cf65e",
   "metadata": {},
   "outputs": [
    {
     "data": {
      "text/plain": [
       "0     {'id': '761a8854-758d-4a16-8d90-75d1b999ef02',...\n",
       "1     {'id': '6dad9a7f-e732-43cf-8058-5fcac24c7041',...\n",
       "2     {'id': 'a3968149-3ee5-4360-8efb-ed8bc3f331c4',...\n",
       "3     {'id': '913e84e6-4785-409e-859e-f6456b2fb27c',...\n",
       "4     {'id': '645d13aa-4a96-4f11-a787-ded7a0051d63',...\n",
       "5     {'id': 'a764c492-bb8d-401d-b7b4-ec5d7915b98e',...\n",
       "6     {'id': '1222afb5-f434-48b9-a92b-19d472c3f914',...\n",
       "7     {'id': 'e8005ae1-313a-4a34-a327-16e6dadb19d6',...\n",
       "8     {'id': 'bd1d03e6-ed8e-4101-93e4-3c214d3d39ca',...\n",
       "9     {'id': 'e120382f-80cf-4aaf-8a13-7f028e88879d',...\n",
       "10    {'id': '0be6f146-74fc-45fb-a748-799f0599aa23',...\n",
       "11    {'id': '88fb4749-8b10-4640-8aa0-acdffeebfe76',...\n",
       "12    {'id': 'bb4569b4-a158-4ca7-bb4c-6cfc58b6498d',...\n",
       "13    {'id': 'ddbe24b9-40bc-40ba-b8b5-94dd4e02e9dd',...\n",
       "14    {'id': 'ce706316-3687-45f0-a8db-fb63b7000ea5',...\n",
       "15    {'id': '8bc4720d-498c-4793-81ef-c43db9f36ca4',...\n",
       "16    {'id': '6a3a4698-d047-4082-bdea-92f4db7e63bf',...\n",
       "17    {'id': 'ba14a125-29f7-4432-97ad-73a53207a5e7',...\n",
       "18    {'id': '59023c05-b679-4e9f-9c06-910021318663',...\n",
       "19    {'id': '10774b2d-b7de-42ac-a600-9828cb4e6129',...\n",
       "20    {'id': '4f79d4db-57b3-4843-909f-eaca3c499e7c',...\n",
       "21    {'id': 'a6115fd5-b330-4424-b400-4bc218f387e1',...\n",
       "22    {'id': 'fcc48775-35f2-4236-9d76-80dcd933f6f9',...\n",
       "23    {'id': '17bcbc38-ccf8-4f32-ab5e-7b32315690af',...\n",
       "24    {'id': 'e378a68a-bdc1-4935-9e1f-eb855f5e3f0e',...\n",
       "25    {'id': 'c197647d-f62e-429f-8a5e-3e86b86fe352',...\n",
       "26    {'id': 'dd556e1a-90f6-46a9-a31b-02508504f2d7',...\n",
       "27    {'id': '9fcf2d9f-964b-4329-b3d2-54a7f1c6c9ee',...\n",
       "28    {'id': '3c2ecc57-f40c-4ae5-afeb-a2abd624d8a8',...\n",
       "29    {'id': 'c5b412c4-9857-44df-8d90-8385fac3948c',...\n",
       "30    {'id': '223dceb9-1d88-43ab-a893-f5728024802d',...\n",
       "31    {'id': '1953493c-cf2b-4d67-b934-72c69f987884',...\n",
       "32    {'id': '5b97e577-add7-41a8-9fdd-6b1ff9a5d3a2',...\n",
       "33    {'id': '49c180c3-aa8e-4f9e-805d-603e510a4485',...\n",
       "34    {'id': 'bc4a88cc-7b79-4382-912d-f2ba5cd1f7ec',...\n",
       "35    {'id': '37d909e4-c6de-43f1-8416-57a34cd48255',...\n",
       "36    {'id': '53263a93-e674-4eda-999d-01e05fcf64ef',...\n",
       "37    {'id': 'b3e31dcb-77d2-42b3-8115-e88a16b2f946',...\n",
       "38    {'id': '2a3afb33-ff26-48ab-b7ca-cfd840d203fa',...\n",
       "39    {'id': '87affdea-021e-4b13-b7fb-f52fa3b1437a',...\n",
       "40    {'id': '9413994e-a20d-4f52-8e84-dfc4ee6217b5',...\n",
       "41    {'id': '3891fd51-8736-4373-9829-9159b950992b',...\n",
       "42    {'id': '5930994f-0066-4e58-822e-15caf064c12e',...\n",
       "43    {'id': '533be18d-8019-42b1-9811-8509ca14106f',...\n",
       "44    {'id': 'f1f2bfec-bd7b-4063-b46e-46aa213a8678',...\n",
       "45    {'id': '62ada927-3b2f-44a7-b765-4372c3886145',...\n",
       "46    {'id': '22b949ed-a192-4b28-82d9-760369d617e6',...\n",
       "47    {'id': '455adfa2-0ef6-4c41-b01a-2af0226aa494',...\n",
       "48    {'id': 'e9a90226-1774-47f0-8ac7-acafe5eabcde',...\n",
       "49    {'id': '6aa34cf6-fd76-4c4e-8db0-b89864d7b245',...\n",
       "Name: results, dtype: object"
      ]
     },
     "execution_count": 56,
     "metadata": {},
     "output_type": "execute_result"
    }
   ],
   "source": [
    "pd.read_json(url)[\"results\"]"
   ]
  },
  {
   "cell_type": "code",
   "execution_count": 58,
   "id": "09e7fd78",
   "metadata": {},
   "outputs": [
    {
     "data": {
      "text/html": [
       "<div><style>\n",
       ".dataframe > thead > tr > th,\n",
       ".dataframe > tbody > tr > td {\n",
       "  text-align: right;\n",
       "}\n",
       "</style>\n",
       "<small>shape: (50,)</small><table border=\"1\" class=\"dataframe\"><thead><tr><th></th></tr><tr><td>struct[8]</td></tr></thead><tbody><tr><td>{&quot;761a8854-758d-4a16-8d90-75d1b999ef02&quot;,&quot;2023-11-11&quot;,&quot;Ranger Creek&quot;,&quot;AB&quot;,&quot;Ice Climbing&quot;,2,0,1}</td></tr><tr><td>{&quot;6dad9a7f-e732-43cf-8058-5fcac24c7041&quot;,&quot;2023-04-22&quot;,&quot;Lake Louise West Bowl&quot;,&quot;AB&quot;,&quot;Lift Skiing Closed&quot;,2,1,1}</td></tr><tr><td>{&quot;a3968149-3ee5-4360-8efb-ed8bc3f331c4&quot;,&quot;2023-04-15&quot;,&quot;Thunderwater Lake&quot;,&quot;BC&quot;,&quot;Snowmobiling&quot;,2,0,1}</td></tr><tr><td>{&quot;913e84e6-4785-409e-859e-f6456b2fb27c&quot;,&quot;2023-04-11&quot;,&quot;Treaty Creek&quot;,&quot;BC&quot;,&quot;Mechanized Skiing&quot;,5,1,1}</td></tr><tr><td>{&quot;645d13aa-4a96-4f11-a787-ded7a0051d63&quot;,&quot;2023-03-01&quot;,&quot;Coppercrown Mountain&quot;,&quot;BC&quot;,&quot;Mechanized Skiing&quot;,10,4,3}</td></tr><tr><td>{&quot;a764c492-bb8d-401d-b7b4-ec5d7915b98e&quot;,&quot;2023-02-16&quot;,&quot;Terminator 2.5&quot;,&quot;BC&quot;,&quot;Out-of-Bounds Skiing/Snowboarding&quot;,6,1,2}</td></tr><tr><td>{&quot;1222afb5-f434-48b9-a92b-19d472c3f914&quot;,&quot;2023-02-11&quot;,&quot;Potato Peak&quot;,&quot;BC&quot;,&quot;Backcountry Skiing&quot;,2,0,2}</td></tr><tr><td>{&quot;e8005ae1-313a-4a34-a327-16e6dadb19d6&quot;,&quot;2023-01-23&quot;,&quot;Akolkolex&quot;,&quot;BC&quot;,&quot;Mechanized Skiing&quot;,3,1,2}</td></tr><tr><td>{&quot;bd1d03e6-ed8e-4101-93e4-3c214d3d39ca&quot;,&quot;2023-01-21&quot;,&quot;Oasis&quot;,&quot;BC&quot;,&quot;Snowmobiling&quot;,2,0,1}</td></tr><tr><td>{&quot;e120382f-80cf-4aaf-8a13-7f028e88879d&quot;,&quot;2023-01-09&quot;,&quot;Jardine SE3&quot;,&quot;BC&quot;,&quot;Backcountry Skiing&quot;,2,0,2}</td></tr><tr><td>{&quot;0be6f146-74fc-45fb-a748-799f0599aa23&quot;,&quot;2022-04-13&quot;,&quot;Mount Des Poilus&quot;,&quot;BC&quot;,&quot;Mountaineering&quot;,1,1,1}</td></tr><tr><td>{&quot;88fb4749-8b10-4640-8aa0-acdffeebfe76&quot;,&quot;2022-04-05&quot;,&quot;West Ridge, Blue Moon&quot;,&quot;BC&quot;,&quot;Lift Skiing Open&quot;,1,1,1}</td></tr><tr><td>&hellip;</td></tr><tr><td>{&quot;2a3afb33-ff26-48ab-b7ca-cfd840d203fa&quot;,&quot;2019-02-09&quot;,&quot;Oventop Creek&quot;,&quot;BC&quot;,&quot;Snowmobiling&quot;,1,0,1}</td></tr><tr><td>{&quot;87affdea-021e-4b13-b7fb-f52fa3b1437a&quot;,&quot;2019-01-26&quot;,&quot;Nain&quot;,&quot;NL&quot;,&quot;Snowmobiling&quot;,3,0,1}</td></tr><tr><td>{&quot;9413994e-a20d-4f52-8e84-dfc4ee6217b5&quot;,&quot;2019-01-12&quot;,&quot;Mount Brewer&quot;,&quot;BC&quot;,&quot;Snowmobiling&quot;,2,0,2}</td></tr><tr><td>{&quot;3891fd51-8736-4373-9829-9159b950992b&quot;,&quot;2019-01-03&quot;,&quot;Pebble Creek&quot;,&quot;BC&quot;,&quot;Skiing&quot;,1,0,1}</td></tr><tr><td>{&quot;5930994f-0066-4e58-822e-15caf064c12e&quot;,&quot;2018-03-28&quot;,&quot;South Creek&quot;,&quot;BC&quot;,&quot;Heliskiing&quot;,1,0,1}</td></tr><tr><td>{&quot;533be18d-8019-42b1-9811-8509ca14106f&quot;,&quot;2018-02-10&quot;,&quot;Soo Valley&quot;,&quot;BC&quot;,&quot;Snowmobiling&quot;,1,0,1}</td></tr><tr><td>{&quot;f1f2bfec-bd7b-4063-b46e-46aa213a8678&quot;,&quot;2018-02-09&quot;,&quot;Hospital Creek&quot;,&quot;BC&quot;,&quot;Snowmobiling&quot;,1,0,1}</td></tr><tr><td>{&quot;62ada927-3b2f-44a7-b765-4372c3886145&quot;,&quot;2018-01-30&quot;,&quot;Clemina Creek&quot;,&quot;BC&quot;,&quot;Snowmobiling&quot;,3,0,1}</td></tr><tr><td>{&quot;22b949ed-a192-4b28-82d9-760369d617e6&quot;,&quot;2018-01-08&quot;,&quot;McDermott Basin, east of Jaffray BC&quot;,&quot;BC&quot;,&quot;Backcountry Skiing&quot;,1,0,1}</td></tr><tr><td>{&quot;455adfa2-0ef6-4c41-b01a-2af0226aa494&quot;,&quot;2018-01-05&quot;,&quot;Ste-Angele- de-Mérici&quot;,&quot;QC&quot;,&quot;Snowmobiling&quot;,1,0,1}</td></tr><tr><td>{&quot;e9a90226-1774-47f0-8ac7-acafe5eabcde&quot;,&quot;2017-12-31&quot;,&quot;Kootenay Pass&quot;,&quot;BC&quot;,&quot;Backcountry Skiing&quot;,1,0,1}</td></tr><tr><td>{&quot;6aa34cf6-fd76-4c4e-8db0-b89864d7b245&quot;,&quot;2017-04-08&quot;,&quot;Mount Harvey, Lions Bay&quot;,&quot;BC&quot;,&quot;Snowshoeing &amp; Hiking&quot;,5,0,5}</td></tr></tbody></table></div>"
      ],
      "text/plain": [
       "shape: (50,)\n",
       "Series: '' [struct[8]]\n",
       "[\n",
       "\t{\"761a8854-758d-4a16-8d90-75d1b999ef02\",\"2023-11-11\",\"Ranger Creek\",\"AB\",\"Ice Climbing\",2,0,1}\n",
       "\t{\"6dad9a7f-e732-43cf-8058-5fcac24c7041\",\"2023-04-22\",\"Lake Louise West Bowl\",\"AB\",\"Lift Skiing Closed\",2,1,1}\n",
       "\t{\"a3968149-3ee5-4360-8efb-ed8bc3f331c4\",\"2023-04-15\",\"Thunderwater Lake\",\"BC\",\"Snowmobiling\",2,0,1}\n",
       "\t{\"913e84e6-4785-409e-859e-f6456b2fb27c\",\"2023-04-11\",\"Treaty Creek\",\"BC\",\"Mechanized Skiing\",5,1,1}\n",
       "\t{\"645d13aa-4a96-4f11-a787-ded7a0051d63\",\"2023-03-01\",\"Coppercrown Mountain\",\"BC\",\"Mechanized Skiing\",10,4,3}\n",
       "\t{\"a764c492-bb8d-401d-b7b4-ec5d7915b98e\",\"2023-02-16\",\"Terminator 2.5\",\"BC\",\"Out-of-Bounds Skiing/Snowboarding\",6,1,2}\n",
       "\t{\"1222afb5-f434-48b9-a92b-19d472c3f914\",\"2023-02-11\",\"Potato Peak\",\"BC\",\"Backcountry Skiing\",2,0,2}\n",
       "\t{\"e8005ae1-313a-4a34-a327-16e6dadb19d6\",\"2023-01-23\",\"Akolkolex\",\"BC\",\"Mechanized Skiing\",3,1,2}\n",
       "\t{\"bd1d03e6-ed8e-4101-93e4-3c214d3d39ca\",\"2023-01-21\",\"Oasis\",\"BC\",\"Snowmobiling\",2,0,1}\n",
       "\t{\"e120382f-80cf-4aaf-8a13-7f028e88879d\",\"2023-01-09\",\"Jardine SE3\",\"BC\",\"Backcountry Skiing\",2,0,2}\n",
       "\t{\"0be6f146-74fc-45fb-a748-799f0599aa23\",\"2022-04-13\",\"Mount Des Poilus\",\"BC\",\"Mountaineering\",1,1,1}\n",
       "\t{\"88fb4749-8b10-4640-8aa0-acdffeebfe76\",\"2022-04-05\",\"West Ridge, Blue Moon\",\"BC\",\"Lift Skiing Open\",1,1,1}\n",
       "\t…\n",
       "\t{\"b3e31dcb-77d2-42b3-8115-e88a16b2f946\",\"2019-02-18\",\"Runner Peak\",\"BC\",\"Snowshoeing\",2,1,1}\n",
       "\t{\"2a3afb33-ff26-48ab-b7ca-cfd840d203fa\",\"2019-02-09\",\"Oventop Creek\",\"BC\",\"Snowmobiling\",1,0,1}\n",
       "\t{\"87affdea-021e-4b13-b7fb-f52fa3b1437a\",\"2019-01-26\",\"Nain\",\"NL\",\"Snowmobiling\",3,0,1}\n",
       "\t{\"9413994e-a20d-4f52-8e84-dfc4ee6217b5\",\"2019-01-12\",\"Mount Brewer\",\"BC\",\"Snowmobiling\",2,0,2}\n",
       "\t{\"3891fd51-8736-4373-9829-9159b950992b\",\"2019-01-03\",\"Pebble Creek\",\"BC\",\"Skiing\",1,0,1}\n",
       "\t{\"5930994f-0066-4e58-822e-15caf064c12e\",\"2018-03-28\",\"South Creek\",\"BC\",\"Heliskiing\",1,0,1}\n",
       "\t{\"533be18d-8019-42b1-9811-8509ca14106f\",\"2018-02-10\",\"Soo Valley\",\"BC\",\"Snowmobiling\",1,0,1}\n",
       "\t{\"f1f2bfec-bd7b-4063-b46e-46aa213a8678\",\"2018-02-09\",\"Hospital Creek\",\"BC\",\"Snowmobiling\",1,0,1}\n",
       "\t{\"62ada927-3b2f-44a7-b765-4372c3886145\",\"2018-01-30\",\"Clemina Creek\",\"BC\",\"Snowmobiling\",3,0,1}\n",
       "\t{\"22b949ed-a192-4b28-82d9-760369d617e6\",\"2018-01-08\",\"McDermott Basin, east of Jaffray BC\",\"BC\",\"Backcountry Skiing\",1,0,1}\n",
       "\t{\"455adfa2-0ef6-4c41-b01a-2af0226aa494\",\"2018-01-05\",\"Ste-Angele- de-Mérici\",\"QC\",\"Snowmobiling\",1,0,1}\n",
       "\t{\"e9a90226-1774-47f0-8ac7-acafe5eabcde\",\"2017-12-31\",\"Kootenay Pass\",\"BC\",\"Backcountry Skiing\",1,0,1}\n",
       "\t{\"6aa34cf6-fd76-4c4e-8db0-b89864d7b245\",\"2017-04-08\",\"Mount Harvey, Lions Bay\",\"BC\",\"Snowshoeing & Hiking\",5,0,5}\n",
       "]"
      ]
     },
     "execution_count": 58,
     "metadata": {},
     "output_type": "execute_result"
    }
   ],
   "source": [
    "# data = requests.get(url).text\n",
    "pl.read_json(\"data.json\")[\"results\"][0]"
   ]
  },
  {
   "cell_type": "code",
   "execution_count": 25,
   "id": "6d552c25",
   "metadata": {},
   "outputs": [
    {
     "data": {
      "text/plain": [
       "'{\"count\":504,\"next\":\"http://incidents.avalanche.ca/public/incidents/?format=json&page=2\",\"previous\":null,\"results\":[{\"id\":\"761a8854-758d-4a16-8d90-75d1b999ef02\",\"date\":\"2023-11-11\",\"location\":\"Ranger Creek\",\"location_province\":\"AB\",\"group_activity\":\"Ice Climbing\",\"num_involved\":2,\"num_injured\":0,\"num_fatal\":1},{\"id\":\"6dad9a7f-e732-43cf-8058-5fcac24c7041\",\"date\":\"2023-04-22\",\"location\":\"Lake Louise West Bowl\",\"location_province\":\"AB\",\"group_activity\":\"Lift Skiing Closed\",\"num_involved\":2,\"num_injured\":1,\"num_fatal\":1},{\"id\":\"a3968149-3ee5-4360-8efb-ed8bc3f331c4\",\"date\":\"2023-04-15\",\"location\":\"Thunderwater Lake\",\"location_province\":\"BC\",\"group_activity\":\"Snowmobiling\",\"num_involved\":2,\"num_injured\":0,\"num_fatal\":1},{\"id\":\"913e84e6-4785-409e-859e-f6456b2fb27c\",\"date\":\"2023-04-11\",\"location\":\"Treaty Creek\",\"location_province\":\"BC\",\"group_activity\":\"Mechanized Skiing\",\"num_involved\":5,\"num_injured\":1,\"num_fatal\":1},{\"id\":\"645d13aa-4a96-4f11-a787-ded7a0051d63\",\"date\":\"2023-03-01\",\"location\":\"Coppercrown Mountain\",\"location_province\":\"BC\",\"group_activity\":\"Mechanized Skiing\",\"num_involved\":10,\"num_injured\":4,\"num_fatal\":3},{\"id\":\"a764c492-bb8d-401d-b7b4-ec5d7915b98e\",\"date\":\"2023-02-16\",\"location\":\"Terminator 2.5\",\"location_province\":\"BC\",\"group_activity\":\"Out-of-Bounds Skiing/Snowboarding\",\"num_involved\":6,\"num_injured\":1,\"num_fatal\":2},{\"id\":\"1222afb5-f434-48b9-a92b-19d472c3f914\",\"date\":\"2023-02-11\",\"location\":\"Potato Peak\",\"location_province\":\"BC\",\"group_activity\":\"Backcountry Skiing\",\"num_involved\":2,\"num_injured\":0,\"num_fatal\":2},{\"id\":\"e8005ae1-313a-4a34-a327-16e6dadb19d6\",\"date\":\"2023-01-23\",\"location\":\"Akolkolex\",\"location_province\":\"BC\",\"group_activity\":\"Mechanized Skiing\",\"num_involved\":3,\"num_injured\":1,\"num_fatal\":2},{\"id\":\"bd1d03e6-ed8e-4101-93e4-3c214d3d39ca\",\"date\":\"2023-01-21\",\"location\":\"Oasis\",\"location_province\":\"BC\",\"group_activity\":\"Snowmobiling\",\"num_involved\":2,\"num_injured\":0,\"num_fatal\":1},{\"id\":\"e120382f-80cf-4aaf-8a13-7f028e88879d\",\"date\":\"2023-01-09\",\"location\":\"Jardine SE3\",\"location_province\":\"BC\",\"group_activity\":\"Backcountry Skiing\",\"num_involved\":2,\"num_injured\":0,\"num_fatal\":2},{\"id\":\"0be6f146-74fc-45fb-a748-799f0599aa23\",\"date\":\"2022-04-13\",\"location\":\"Mount Des Poilus\",\"location_province\":\"BC\",\"group_activity\":\"Mountaineering\",\"num_involved\":1,\"num_injured\":1,\"num_fatal\":1},{\"id\":\"88fb4749-8b10-4640-8aa0-acdffeebfe76\",\"date\":\"2022-04-05\",\"location\":\"West Ridge, Blue Moon\",\"location_province\":\"BC\",\"group_activity\":\"Lift Skiing Open\",\"num_involved\":1,\"num_injured\":1,\"num_fatal\":1},{\"id\":\"bb4569b4-a158-4ca7-bb4c-6cfc58b6498d\",\"date\":\"2022-03-06\",\"location\":\"Charlie\\'s Bottom\",\"location_province\":\"NL\",\"group_activity\":\"Snowmobiling\",\"num_involved\":1,\"num_injured\":0,\"num_fatal\":1},{\"id\":\"ddbe24b9-40bc-40ba-b8b5-94dd4e02e9dd\",\"date\":\"2022-02-20\",\"location\":\"Mt. Kenney\",\"location_province\":\"BC\",\"group_activity\":\"Mechanized Skiing\",\"num_involved\":4,\"num_injured\":2,\"num_fatal\":1},{\"id\":\"ce706316-3687-45f0-a8db-fb63b7000ea5\",\"date\":\"2022-02-05\",\"location\":\"Cassiope Peak\",\"location_province\":\"BC\",\"group_activity\":\"Backcountry Skiing/Snowboarding\",\"num_involved\":4,\"num_injured\":1,\"num_fatal\":1},{\"id\":\"8bc4720d-498c-4793-81ef-c43db9f36ca4\",\"date\":\"2021-11-27\",\"location\":\"Sunshine Bowl, Hasler Area\",\"location_province\":\"BC\",\"group_activity\":\"Snowmobiling\",\"num_involved\":3,\"num_injured\":0,\"num_fatal\":1},{\"id\":\"6a3a4698-d047-4082-bdea-92f4db7e63bf\",\"date\":\"2021-05-30\",\"location\":\"Mount Andromeda-Skyladder\",\"location_province\":\"AB\",\"group_activity\":\"Mountaineering\",\"num_involved\":2,\"num_injured\":0,\"num_fatal\":2},{\"id\":\"ba14a125-29f7-4432-97ad-73a53207a5e7\",\"date\":\"2021-04-05\",\"location\":\"Haddo Peak\",\"location_province\":\"AB\",\"group_activity\":\"Backcountry Skiing\",\"num_involved\":2,\"num_injured\":0,\"num_fatal\":1},{\"id\":\"59023c05-b679-4e9f-9c06-910021318663\",\"date\":\"2021-03-29\",\"location\":\"Eureka Peak\",\"location_province\":\"BC\",\"group_activity\":\"Snowmobiling\",\"num_involved\":1,\"num_injured\":0,\"num_fatal\":1},{\"id\":\"10774b2d-b7de-42ac-a600-9828cb4e6129\",\"date\":\"2021-03-04\",\"location\":\"Reco Mountain\",\"location_province\":\"BC\",\"group_activity\":\"Snowmobiling\",\"num_involved\":1,\"num_injured\":0,\"num_fatal\":1},{\"id\":\"4f79d4db-57b3-4843-909f-eaca3c499e7c\",\"date\":\"2021-02-23\",\"location\":\"Swift Creek\",\"location_province\":\"BC\",\"group_activity\":\"Backcountry Skiing\",\"num_involved\":3,\"num_injured\":0,\"num_fatal\":1},{\"id\":\"a6115fd5-b330-4424-b400-4bc218f387e1\",\"date\":\"2021-02-20\",\"location\":\"Hasler\",\"location_province\":\"BC\",\"group_activity\":\"Snowmobiling\",\"num_involved\":1,\"num_injured\":0,\"num_fatal\":1},{\"id\":\"fcc48775-35f2-4236-9d76-80dcd933f6f9\",\"date\":\"2021-02-13\",\"location\":\"Brandywine Bowl\",\"location_province\":\"BC\",\"group_activity\":\"Skiing/Snowboarding\",\"num_involved\":1,\"num_injured\":0,\"num_fatal\":1},{\"id\":\"17bcbc38-ccf8-4f32-ab5e-7b32315690af\",\"date\":\"2021-02-12\",\"location\":\"Phalanx Mountain\",\"location_province\":\"BC\",\"group_activity\":\"Backcountry Skiing\",\"num_involved\":2,\"num_injured\":1,\"num_fatal\":1},{\"id\":\"e378a68a-bdc1-4935-9e1f-eb855f5e3f0e\",\"date\":\"2020-12-28\",\"location\":\"Railroad Pass\",\"location_province\":\"BC\",\"group_activity\":\"Snow Biking\",\"num_involved\":2,\"num_injured\":0,\"num_fatal\":2},{\"id\":\"c197647d-f62e-429f-8a5e-3e86b86fe352\",\"date\":\"2020-11-28\",\"location\":\"Pine Pass - Bijou Falls\",\"location_province\":\"BC\",\"group_activity\":\"Snowmobiling\",\"num_involved\":1,\"num_injured\":0,\"num_fatal\":1},{\"id\":\"dd556e1a-90f6-46a9-a31b-02508504f2d7\",\"date\":\"2020-03-14\",\"location\":\"Brunswick Mountain\",\"location_province\":\"BC\",\"group_activity\":\"Snowshoeing\",\"num_involved\":1,\"num_injured\":0,\"num_fatal\":1},{\"id\":\"9fcf2d9f-964b-4329-b3d2-54a7f1c6c9ee\",\"date\":\"2020-02-19\",\"location\":\"Joe Louis aux Mines Madeleine\",\"location_province\":\"QC\",\"group_activity\":\"Backcountry Skiing\",\"num_involved\":2,\"num_injured\":1,\"num_fatal\":1},{\"id\":\"3c2ecc57-f40c-4ae5-afeb-a2abd624d8a8\",\"date\":\"2020-02-13\",\"location\":\"Willmore Wilderness Park\",\"location_province\":\"AB\",\"group_activity\":\"Snowmobiling\",\"num_involved\":2,\"num_injured\":0,\"num_fatal\":1},{\"id\":\"c5b412c4-9857-44df-8d90-8385fac3948c\",\"date\":\"2020-02-02\",\"location\":\"Upper Burnt\",\"location_province\":\"BC\",\"group_activity\":\"Snowmobiling\",\"num_involved\":1,\"num_injured\":0,\"num_fatal\":1},{\"id\":\"223dceb9-1d88-43ab-a893-f5728024802d\",\"date\":\"2020-01-10\",\"location\":\"Mount Hector\",\"location_province\":\"AB\",\"group_activity\":\"Backcountry Skiing\",\"num_involved\":1,\"num_injured\":0,\"num_fatal\":1},{\"id\":\"1953493c-cf2b-4d67-b934-72c69f987884\",\"date\":\"2020-01-04\",\"location\":\"Cabin Lake\",\"location_province\":\"BC\",\"group_activity\":\"Snowmobiling\",\"num_involved\":1,\"num_injured\":0,\"num_fatal\":1},{\"id\":\"5b97e577-add7-41a8-9fdd-6b1ff9a5d3a2\",\"date\":\"2019-12-30\",\"location\":\"Chuck Creek Parking Area\",\"location_province\":\"BC\",\"group_activity\":\"Snowboarding\",\"num_involved\":3,\"num_injured\":1,\"num_fatal\":2},{\"id\":\"49c180c3-aa8e-4f9e-805d-603e510a4485\",\"date\":\"2019-04-20\",\"location\":\"Yoho National Park\",\"location_province\":\"BC\",\"group_activity\":\"Backcountry Skiing\",\"num_involved\":3,\"num_injured\":0,\"num_fatal\":1},{\"id\":\"bc4a88cc-7b79-4382-912d-f2ba5cd1f7ec\",\"date\":\"2019-04-16\",\"location\":\"Howse Peak\",\"location_province\":\"AB\",\"group_activity\":\"Ice Climbing\",\"num_involved\":3,\"num_injured\":0,\"num_fatal\":3},{\"id\":\"37d909e4-c6de-43f1-8416-57a34cd48255\",\"date\":\"2019-03-16\",\"location\":\"Pharaoh Lake\",\"location_province\":\"AB\",\"group_activity\":\"Ski touring\",\"num_involved\":2,\"num_injured\":0,\"num_fatal\":1},{\"id\":\"53263a93-e674-4eda-999d-01e05fcf64ef\",\"date\":\"2019-03-11\",\"location\":\"Massey\\'s Waterfall\",\"location_province\":\"BC\",\"group_activity\":\"Ice Climbing\",\"num_involved\":5,\"num_injured\":0,\"num_fatal\":1},{\"id\":\"b3e31dcb-77d2-42b3-8115-e88a16b2f946\",\"date\":\"2019-02-18\",\"location\":\"Runner Peak\",\"location_province\":\"BC\",\"group_activity\":\"Snowshoeing\",\"num_involved\":2,\"num_injured\":1,\"num_fatal\":1},{\"id\":\"2a3afb33-ff26-48ab-b7ca-cfd840d203fa\",\"date\":\"2019-02-09\",\"location\":\"Oventop Creek\",\"location_province\":\"BC\",\"group_activity\":\"Snowmobiling\",\"num_involved\":1,\"num_injured\":0,\"num_fatal\":1},{\"id\":\"87affdea-021e-4b13-b7fb-f52fa3b1437a\",\"date\":\"2019-01-26\",\"location\":\"Nain\",\"location_province\":\"NL\",\"group_activity\":\"Snowmobiling\",\"num_involved\":3,\"num_injured\":0,\"num_fatal\":1},{\"id\":\"9413994e-a20d-4f52-8e84-dfc4ee6217b5\",\"date\":\"2019-01-12\",\"location\":\"Mount Brewer\",\"location_province\":\"BC\",\"group_activity\":\"Snowmobiling\",\"num_involved\":2,\"num_injured\":0,\"num_fatal\":2},{\"id\":\"3891fd51-8736-4373-9829-9159b950992b\",\"date\":\"2019-01-03\",\"location\":\"Pebble Creek\",\"location_province\":\"BC\",\"group_activity\":\"Skiing\",\"num_involved\":1,\"num_injured\":0,\"num_fatal\":1},{\"id\":\"5930994f-0066-4e58-822e-15caf064c12e\",\"date\":\"2018-03-28\",\"location\":\"South Creek\",\"location_province\":\"BC\",\"group_activity\":\"Heliskiing\",\"num_involved\":1,\"num_injured\":0,\"num_fatal\":1},{\"id\":\"533be18d-8019-42b1-9811-8509ca14106f\",\"date\":\"2018-02-10\",\"location\":\"Soo Valley\",\"location_province\":\"BC\",\"group_activity\":\"Snowmobiling\",\"num_involved\":1,\"num_injured\":0,\"num_fatal\":1},{\"id\":\"f1f2bfec-bd7b-4063-b46e-46aa213a8678\",\"date\":\"2018-02-09\",\"location\":\"Hospital Creek\",\"location_province\":\"BC\",\"group_activity\":\"Snowmobiling\",\"num_involved\":1,\"num_injured\":0,\"num_fatal\":1},{\"id\":\"62ada927-3b2f-44a7-b765-4372c3886145\",\"date\":\"2018-01-30\",\"location\":\"Clemina Creek\",\"location_province\":\"BC\",\"group_activity\":\"Snowmobiling\",\"num_involved\":3,\"num_injured\":0,\"num_fatal\":1},{\"id\":\"22b949ed-a192-4b28-82d9-760369d617e6\",\"date\":\"2018-01-08\",\"location\":\"McDermott Basin, east of Jaffray BC\",\"location_province\":\"BC\",\"group_activity\":\"Backcountry Skiing\",\"num_involved\":1,\"num_injured\":0,\"num_fatal\":1},{\"id\":\"455adfa2-0ef6-4c41-b01a-2af0226aa494\",\"date\":\"2018-01-05\",\"location\":\"Ste-Angele- de-Mérici\",\"location_province\":\"QC\",\"group_activity\":\"Snowmobiling\",\"num_involved\":1,\"num_injured\":0,\"num_fatal\":1},{\"id\":\"e9a90226-1774-47f0-8ac7-acafe5eabcde\",\"date\":\"2017-12-31\",\"location\":\"Kootenay Pass\",\"location_province\":\"BC\",\"group_activity\":\"Backcountry Skiing\",\"num_involved\":1,\"num_injured\":0,\"num_fatal\":1},{\"id\":\"6aa34cf6-fd76-4c4e-8db0-b89864d7b245\",\"date\":\"2017-04-08\",\"location\":\"Mount Harvey, Lions Bay\",\"location_province\":\"BC\",\"group_activity\":\"Snowshoeing & Hiking\",\"num_involved\":5,\"num_injured\":0,\"num_fatal\":5}]}'"
      ]
     },
     "execution_count": 25,
     "metadata": {},
     "output_type": "execute_result"
    }
   ],
   "source": [
    "data.text"
   ]
  },
  {
   "cell_type": "code",
   "execution_count": null,
   "id": "95ee594a",
   "metadata": {},
   "outputs": [],
   "source": []
  }
 ],
 "metadata": {
  "kernelspec": {
   "display_name": "Python 3",
   "language": "python",
   "name": "python3"
  },
  "language_info": {
   "codemirror_mode": {
    "name": "ipython",
    "version": 3
   },
   "file_extension": ".py",
   "mimetype": "text/x-python",
   "name": "python",
   "nbconvert_exporter": "python",
   "pygments_lexer": "ipython3",
   "version": "3.9.5"
  }
 },
 "nbformat": 4,
 "nbformat_minor": 5
}
