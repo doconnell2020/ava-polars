{
 "cells": [
  {
   "cell_type": "code",
   "execution_count": 2,
   "id": "233c345f",
   "metadata": {},
   "outputs": [],
   "source": [
    "import time\n",
    "import pandas as pd\n",
    "import requests\n",
    "import json\n",
    "from typing import List"
   ]
  },
  {
   "cell_type": "code",
   "execution_count": 3,
   "id": "5aadbfbb",
   "metadata": {},
   "outputs": [],
   "source": [
    "# %pip install polars\n",
    "import polars as pl"
   ]
  },
  {
   "cell_type": "code",
   "execution_count": 4,
   "id": "a5aa8a6a",
   "metadata": {},
   "outputs": [
    {
     "name": "stdout",
     "output_type": "stream",
     "text": [
      "Time to taken for extract_data.py to run: 0.0s.\n"
     ]
    }
   ],
   "source": [
    "from extract_data import get_URLs,\\\n",
    "get_incident_ids, generate_canadian_avalanche_data"
   ]
  },
  {
   "cell_type": "code",
   "execution_count": 5,
   "id": "a530646c",
   "metadata": {},
   "outputs": [],
   "source": [
    "url = \"https://incidents.avalanche.ca/public/incidents/?format=json\""
   ]
  },
  {
   "cell_type": "code",
   "execution_count": 6,
   "id": "66cedf54",
   "metadata": {},
   "outputs": [],
   "source": [
    "URLS = get_URLs(url)"
   ]
  },
  {
   "cell_type": "code",
   "execution_count": 7,
   "id": "5e6f7a6d",
   "metadata": {},
   "outputs": [],
   "source": [
    "ids = get_incident_ids(URLS)"
   ]
  },
  {
   "cell_type": "code",
   "execution_count": 8,
   "id": "3bd2891e",
   "metadata": {},
   "outputs": [
    {
     "data": {
      "text/plain": [
       "'Data was saved.'"
      ]
     },
     "execution_count": 8,
     "metadata": {},
     "output_type": "execute_result"
    }
   ],
   "source": [
    "generate_canadian_avalanche_data(ids)"
   ]
  },
  {
   "cell_type": "code",
   "execution_count": null,
   "id": "b7f6ec2c",
   "metadata": {},
   "outputs": [],
   "source": [
    "def generate_canadian_avalanche_data(incident_ids: List[str]) -> str:\n",
    "    df = pd.DataFrame()\n",
    "    for id in incident_ids:\n",
    "        data = requests.get(\n",
    "            \"https://incidents.avalanche.ca/public/incidents/{}/?format=json\".format(id)\n",
    "        ).json()\n",
    "        new_df = pd.json_normalize(data)\n",
    "        df = pd.concat([df, new_df])\n",
    "    df.to_csv(\"./data/can_avs_raw.csv\")\n",
    "\n",
    "    return \"Data was saved.\""
   ]
  }
 ],
 "metadata": {
  "kernelspec": {
   "display_name": "Python 3 (ipykernel)",
   "language": "python",
   "name": "python3"
  },
  "language_info": {
   "codemirror_mode": {
    "name": "ipython",
    "version": 3
   },
   "file_extension": ".py",
   "mimetype": "text/x-python",
   "name": "python",
   "nbconvert_exporter": "python",
   "pygments_lexer": "ipython3",
   "version": "3.8.10"
  }
 },
 "nbformat": 4,
 "nbformat_minor": 5
}
